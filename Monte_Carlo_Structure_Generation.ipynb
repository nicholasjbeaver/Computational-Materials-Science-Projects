{
  "cells": [
    {
      "cell_type": "markdown",
      "metadata": {
        "id": "view-in-github",
        "colab_type": "text"
      },
      "source": [
        "<a href=\"https://colab.research.google.com/github/nicholasjbeaver/Computational-Materials-Science-Projects/blob/main/Monte_Carlo_Structure_Generation.ipynb\" target=\"_parent\"><img src=\"https://colab.research.google.com/assets/colab-badge.svg\" alt=\"Open In Colab\"/></a>"
      ]
    },
    {
      "cell_type": "markdown",
      "metadata": {
        "id": "Ac0AKifNVHnp"
      },
      "source": [
        "# Monte Carlo Sampling of SPHEA Configuration Space"
      ]
    },
    {
      "cell_type": "markdown",
      "metadata": {
        "id": "vREqhB1kVUaw"
      },
      "source": [
        "## Installation"
      ]
    },
    {
      "cell_type": "code",
      "execution_count": 1,
      "metadata": {
        "id": "Wm1mU_cWJfQr",
        "colab": {
          "base_uri": "https://localhost:8080/"
        },
        "outputId": "512731fc-8144-49cb-a2a5-58aac5962103"
      },
      "outputs": [
        {
          "output_type": "stream",
          "name": "stdout",
          "text": [
            "\u001b[2K     \u001b[90m━━━━━━━━━━━━━━━━━━━━━━━━━━━━━━━━━━━━━━━━\u001b[0m \u001b[32m266.3/266.3 MB\u001b[0m \u001b[31m4.9 MB/s\u001b[0m eta \u001b[36m0:00:00\u001b[0m\n",
            "\u001b[2K     \u001b[90m━━━━━━━━━━━━━━━━━━━━━━━━━━━━━━━━━━━━━━━━\u001b[0m \u001b[32m130.2/130.2 kB\u001b[0m \u001b[31m4.2 MB/s\u001b[0m eta \u001b[36m0:00:00\u001b[0m\n",
            "\u001b[2K     \u001b[90m━━━━━━━━━━━━━━━━━━━━━━━━━━━━━━━━━━━━━━━━\u001b[0m \u001b[32m4.2/4.2 MB\u001b[0m \u001b[31m47.2 MB/s\u001b[0m eta \u001b[36m0:00:00\u001b[0m\n",
            "\u001b[2K     \u001b[90m━━━━━━━━━━━━━━━━━━━━━━━━━━━━━━━━━━━━━━━━\u001b[0m \u001b[32m619.9/619.9 MB\u001b[0m \u001b[31m2.7 MB/s\u001b[0m eta \u001b[36m0:00:00\u001b[0m\n",
            "\u001b[2K     \u001b[90m━━━━━━━━━━━━━━━━━━━━━━━━━━━━━━━━━━━━━━━━\u001b[0m \u001b[32m515.3/515.3 kB\u001b[0m \u001b[31m49.1 MB/s\u001b[0m eta \u001b[36m0:00:00\u001b[0m\n",
            "\u001b[2K     \u001b[90m━━━━━━━━━━━━━━━━━━━━━━━━━━━━━━━━━━━━━━━━\u001b[0m \u001b[32m305.5/305.5 kB\u001b[0m \u001b[31m39.1 MB/s\u001b[0m eta \u001b[36m0:00:00\u001b[0m\n",
            "\u001b[2K     \u001b[90m━━━━━━━━━━━━━━━━━━━━━━━━━━━━━━━━━━━━━━━━\u001b[0m \u001b[32m125.3/125.3 kB\u001b[0m \u001b[31m20.3 MB/s\u001b[0m eta \u001b[36m0:00:00\u001b[0m\n",
            "\u001b[2K     \u001b[90m━━━━━━━━━━━━━━━━━━━━━━━━━━━━━━━━━━━━━━━━\u001b[0m \u001b[32m57.6/57.6 kB\u001b[0m \u001b[31m9.4 MB/s\u001b[0m eta \u001b[36m0:00:00\u001b[0m\n",
            "\u001b[2K     \u001b[90m━━━━━━━━━━━━━━━━━━━━━━━━━━━━━━━━━━━━━━━━\u001b[0m \u001b[32m67.8/67.8 kB\u001b[0m \u001b[31m10.4 MB/s\u001b[0m eta \u001b[36m0:00:00\u001b[0m\n",
            "\u001b[2K     \u001b[90m━━━━━━━━━━━━━━━━━━━━━━━━━━━━━━━━━━━━━━━━\u001b[0m \u001b[32m2.9/2.9 MB\u001b[0m \u001b[31m100.2 MB/s\u001b[0m eta \u001b[36m0:00:00\u001b[0m\n",
            "\u001b[2K     \u001b[90m━━━━━━━━━━━━━━━━━━━━━━━━━━━━━━━━━━━━━━━━\u001b[0m \u001b[32m309.4/309.4 kB\u001b[0m \u001b[31m40.6 MB/s\u001b[0m eta \u001b[36m0:00:00\u001b[0m\n",
            "\u001b[2K     \u001b[90m━━━━━━━━━━━━━━━━━━━━━━━━━━━━━━━━━━━━━━━━\u001b[0m \u001b[32m62.7/62.7 kB\u001b[0m \u001b[31m9.9 MB/s\u001b[0m eta \u001b[36m0:00:00\u001b[0m\n",
            "\u001b[2K     \u001b[90m━━━━━━━━━━━━━━━━━━━━━━━━━━━━━━━━━━━━━━━━\u001b[0m \u001b[32m21.0/21.0 MB\u001b[0m \u001b[31m75.0 MB/s\u001b[0m eta \u001b[36m0:00:00\u001b[0m\n",
            "\u001b[2K     \u001b[90m━━━━━━━━━━━━━━━━━━━━━━━━━━━━━━━━━━━━━━━━\u001b[0m \u001b[32m849.3/849.3 kB\u001b[0m \u001b[31m73.2 MB/s\u001b[0m eta \u001b[36m0:00:00\u001b[0m\n",
            "\u001b[2K     \u001b[90m━━━━━━━━━━━━━━━━━━━━━━━━━━━━━━━━━━━━━━━━\u001b[0m \u001b[32m11.8/11.8 MB\u001b[0m \u001b[31m110.0 MB/s\u001b[0m eta \u001b[36m0:00:00\u001b[0m\n",
            "\u001b[2K     \u001b[90m━━━━━━━━━━━━━━━━━━━━━━━━━━━━━━━━━━━━━━━━\u001b[0m \u001b[32m557.1/557.1 MB\u001b[0m \u001b[31m2.7 MB/s\u001b[0m eta \u001b[36m0:00:00\u001b[0m\n",
            "\u001b[2K     \u001b[90m━━━━━━━━━━━━━━━━━━━━━━━━━━━━━━━━━━━━━━━━\u001b[0m \u001b[32m317.1/317.1 MB\u001b[0m \u001b[31m3.1 MB/s\u001b[0m eta \u001b[36m0:00:00\u001b[0m\n",
            "\u001b[2K     \u001b[90m━━━━━━━━━━━━━━━━━━━━━━━━━━━━━━━━━━━━━━━━\u001b[0m \u001b[32m168.4/168.4 MB\u001b[0m \u001b[31m10.5 MB/s\u001b[0m eta \u001b[36m0:00:00\u001b[0m\n",
            "\u001b[2K     \u001b[90m━━━━━━━━━━━━━━━━━━━━━━━━━━━━━━━━━━━━━━━━\u001b[0m \u001b[32m54.6/54.6 MB\u001b[0m \u001b[31m31.7 MB/s\u001b[0m eta \u001b[36m0:00:00\u001b[0m\n",
            "\u001b[2K     \u001b[90m━━━━━━━━━━━━━━━━━━━━━━━━━━━━━━━━━━━━━━━━\u001b[0m \u001b[32m102.6/102.6 MB\u001b[0m \u001b[31m16.9 MB/s\u001b[0m eta \u001b[36m0:00:00\u001b[0m\n",
            "\u001b[2K     \u001b[90m━━━━━━━━━━━━━━━━━━━━━━━━━━━━━━━━━━━━━━━━\u001b[0m \u001b[32m173.2/173.2 MB\u001b[0m \u001b[31m4.2 MB/s\u001b[0m eta \u001b[36m0:00:00\u001b[0m\n",
            "\u001b[2K     \u001b[90m━━━━━━━━━━━━━━━━━━━━━━━━━━━━━━━━━━━━━━━━\u001b[0m \u001b[32m177.1/177.1 MB\u001b[0m \u001b[31m6.9 MB/s\u001b[0m eta \u001b[36m0:00:00\u001b[0m\n",
            "\u001b[2K     \u001b[90m━━━━━━━━━━━━━━━━━━━━━━━━━━━━━━━━━━━━━━━━\u001b[0m \u001b[32m98.6/98.6 kB\u001b[0m \u001b[31m15.7 MB/s\u001b[0m eta \u001b[36m0:00:00\u001b[0m\n",
            "\u001b[2K     \u001b[90m━━━━━━━━━━━━━━━━━━━━━━━━━━━━━━━━━━━━━━━━\u001b[0m \u001b[32m63.3/63.3 MB\u001b[0m \u001b[31m27.5 MB/s\u001b[0m eta \u001b[36m0:00:00\u001b[0m\n",
            "\u001b[2K     \u001b[90m━━━━━━━━━━━━━━━━━━━━━━━━━━━━━━━━━━━━━━━━\u001b[0m \u001b[32m96.4/96.4 kB\u001b[0m \u001b[31m15.8 MB/s\u001b[0m eta \u001b[36m0:00:00\u001b[0m\n",
            "\u001b[?25h\u001b[31mERROR: pip's dependency resolver does not currently take into account all the packages that are installed. This behaviour is the source of the following dependency conflicts.\n",
            "confection 0.1.5 requires pydantic!=1.8,!=1.8.1,<3.0.0,>=1.7.4, but you have pydantic 1.8.1 which is incompatible.\n",
            "inflect 7.0.0 requires pydantic>=1.9.1, but you have pydantic 1.8.1 which is incompatible.\n",
            "spacy 3.7.5 requires pydantic!=1.8,!=1.8.1,<3.0.0,>=1.7.4, but you have pydantic 1.8.1 which is incompatible.\n",
            "thinc 8.2.4 requires pydantic!=1.8,!=1.8.1,<3.0.0,>=1.7.4, but you have pydantic 1.8.1 which is incompatible.\n",
            "torchaudio 2.3.0+cu121 requires torch==2.3.0, but you have torch 2.0.0 which is incompatible.\n",
            "torchtext 0.18.0 requires torch>=2.3.0, but you have torch 2.0.0 which is incompatible.\n",
            "torchvision 0.18.0+cu121 requires torch==2.3.0, but you have torch 2.0.0 which is incompatible.\n",
            "weasel 0.4.1 requires pydantic!=1.8,!=1.8.1,<3.0.0,>=1.7.4, but you have pydantic 1.8.1 which is incompatible.\u001b[0m\u001b[31m\n",
            "\u001b[2K     \u001b[90m━━━━━━━━━━━━━━━━━━━━━━━━━━━━━━━━━━━━━━━━\u001b[0m \u001b[32m4.8/4.8 MB\u001b[0m \u001b[31m45.8 MB/s\u001b[0m eta \u001b[36m0:00:00\u001b[0m\n",
            "\u001b[2K     \u001b[90m━━━━━━━━━━━━━━━━━━━━━━━━━━━━━━━━━━━━━━━━\u001b[0m \u001b[32m8.3/8.3 MB\u001b[0m \u001b[31m106.3 MB/s\u001b[0m eta \u001b[36m0:00:00\u001b[0m\n",
            "\u001b[2K     \u001b[90m━━━━━━━━━━━━━━━━━━━━━━━━━━━━━━━━━━━━━━━━\u001b[0m \u001b[32m67.9/67.9 kB\u001b[0m \u001b[31m10.2 MB/s\u001b[0m eta \u001b[36m0:00:00\u001b[0m\n",
            "\u001b[2K     \u001b[90m━━━━━━━━━━━━━━━━━━━━━━━━━━━━━━━━━━━━━━━━\u001b[0m \u001b[32m332.3/332.3 kB\u001b[0m \u001b[31m39.9 MB/s\u001b[0m eta \u001b[36m0:00:00\u001b[0m\n",
            "\u001b[2K     \u001b[90m━━━━━━━━━━━━━━━━━━━━━━━━━━━━━━━━━━━━━━━━\u001b[0m \u001b[32m561.4/561.4 kB\u001b[0m \u001b[31m51.8 MB/s\u001b[0m eta \u001b[36m0:00:00\u001b[0m\n",
            "\u001b[2K     \u001b[90m━━━━━━━━━━━━━━━━━━━━━━━━━━━━━━━━━━━━━━━━\u001b[0m \u001b[32m64.9/64.9 kB\u001b[0m \u001b[31m10.0 MB/s\u001b[0m eta \u001b[36m0:00:00\u001b[0m\n",
            "\u001b[2K     \u001b[90m━━━━━━━━━━━━━━━━━━━━━━━━━━━━━━━━━━━━━━━━\u001b[0m \u001b[32m117.8/117.8 kB\u001b[0m \u001b[31m17.3 MB/s\u001b[0m eta \u001b[36m0:00:00\u001b[0m\n",
            "\u001b[2K     \u001b[90m━━━━━━━━━━━━━━━━━━━━━━━━━━━━━━━━━━━━━━━━\u001b[0m \u001b[32m38.6/38.6 MB\u001b[0m \u001b[31m44.2 MB/s\u001b[0m eta \u001b[36m0:00:00\u001b[0m\n",
            "\u001b[2K     \u001b[90m━━━━━━━━━━━━━━━━━━━━━━━━━━━━━━━━━━━━━━━━\u001b[0m \u001b[32m57.9/57.9 kB\u001b[0m \u001b[31m9.7 MB/s\u001b[0m eta \u001b[36m0:00:00\u001b[0m\n",
            "\u001b[2K     \u001b[90m━━━━━━━━━━━━━━━━━━━━━━━━━━━━━━━━━━━━━━━━\u001b[0m \u001b[32m526.7/526.7 kB\u001b[0m \u001b[31m53.7 MB/s\u001b[0m eta \u001b[36m0:00:00\u001b[0m\n",
            "\u001b[?25h\u001b[31mERROR: pip's dependency resolver does not currently take into account all the packages that are installed. This behaviour is the source of the following dependency conflicts.\n",
            "google-colab 1.0.0 requires requests==2.31.0, but you have requests 2.32.3 which is incompatible.\n",
            "spacy 3.7.5 requires pydantic!=1.8,!=1.8.1,<3.0.0,>=1.7.4, but you have pydantic 1.8.1 which is incompatible.\n",
            "torchtext 0.18.0 requires torch>=2.3.0, but you have torch 2.0.0 which is incompatible.\n",
            "weasel 0.4.1 requires pydantic!=1.8,!=1.8.1,<3.0.0,>=1.7.4, but you have pydantic 1.8.1 which is incompatible.\u001b[0m\u001b[31m\n",
            "\u001b[0m"
          ]
        }
      ],
      "source": [
        "!pip install -q dgl==1.0.1+cu117 -f https://data.dgl.ai/wheels/cu117/repo.html\n",
        "!pip install -q alignn==2024.1.14\n",
        "\n",
        "!pip install -q ase\n",
        "!pip install -q pymatgen"
      ]
    },
    {
      "cell_type": "code",
      "execution_count": 2,
      "metadata": {
        "id": "b55PoGGHnrLx"
      },
      "outputs": [],
      "source": [
        "from jarvis.core.atoms import ase_to_atoms\n",
        "from jarvis.core.atoms import Atoms as JarvisAtoms\n",
        "from ase.io import write\n",
        "from ase.visualize import view\n",
        "from ase.io import read as ASEread\n",
        "from ase import Atoms\n",
        "from ase.spacegroup import crystal\n",
        "import numpy as np\n",
        "import math\n",
        "import random\n",
        "from scipy.stats import norm\n",
        "import matplotlib.pyplot as plt\n",
        "from scipy.stats import ttest_ind\n",
        "from scipy.stats import ttest_1samp\n",
        "from scipy.stats import ttest_rel\n",
        "import copy\n",
        "import multiprocessing\n",
        "import tqdm\n",
        "import time\n",
        "from pymatgen.core.composition import Composition\n",
        "import pandas as pd\n",
        "import ast\n",
        "import re\n",
        "import statistics\n",
        "\n",
        "from scipy.stats import norm\n",
        "import matplotlib.pyplot as plt\n",
        "from scipy.stats import ttest_ind\n",
        "from scipy.stats import ttest_1samp\n",
        "from scipy.stats import ttest_rel\n",
        "\n",
        "%matplotlib inline"
      ]
    },
    {
      "cell_type": "code",
      "execution_count": 3,
      "metadata": {
        "colab": {
          "base_uri": "https://localhost:8080/",
          "height": 445
        },
        "id": "rFLLpwc2dPCW",
        "outputId": "42365d5d-8205-4ee2-9e76-311446e4b2ad"
      },
      "outputs": [
        {
          "output_type": "stream",
          "name": "stderr",
          "text": [
            "DGL backend not selected or invalid.  Assuming PyTorch for now.\n"
          ]
        },
        {
          "output_type": "stream",
          "name": "stdout",
          "text": [
            "Setting the default backend to \"pytorch\". You can change it in the ~/.dgl/config.json file or export the DGLBACKEND environment variable.  Valid options are: pytorch, mxnet, tensorflow (all lowercase)\n",
            "dir_path /usr/local/lib/python3.10/dist-packages/alignn/ff/alignnff_fmult\n"
          ]
        },
        {
          "output_type": "stream",
          "name": "stderr",
          "text": [
            "100%|██████████| 118/118 [00:00<00:00, 188kiB/s]\n"
          ]
        },
        {
          "output_type": "error",
          "ename": "BadZipFile",
          "evalue": "File is not a zip file",
          "traceback": [
            "\u001b[0;31m---------------------------------------------------------------------------\u001b[0m",
            "\u001b[0;31mBadZipFile\u001b[0m                                Traceback (most recent call last)",
            "\u001b[0;32m<ipython-input-3-2aa99c320243>\u001b[0m in \u001b[0;36m<cell line: 2>\u001b[0;34m()\u001b[0m\n\u001b[1;32m      1\u001b[0m \u001b[0;32mfrom\u001b[0m \u001b[0malignn\u001b[0m\u001b[0;34m.\u001b[0m\u001b[0mff\u001b[0m\u001b[0;34m.\u001b[0m\u001b[0mff\u001b[0m \u001b[0;32mimport\u001b[0m \u001b[0mAlignnAtomwiseCalculator\u001b[0m\u001b[0;34m,\u001b[0m\u001b[0mwt10_path\u001b[0m\u001b[0;34m,\u001b[0m \u001b[0mForceField\u001b[0m\u001b[0;34m,\u001b[0m \u001b[0malignnff_fmult\u001b[0m \u001b[0;31m#, get_figshare_model_ff, default_path\u001b[0m\u001b[0;34m\u001b[0m\u001b[0;34m\u001b[0m\u001b[0m\n\u001b[0;32m----> 2\u001b[0;31m \u001b[0mmodel_path\u001b[0m \u001b[0;34m=\u001b[0m \u001b[0malignnff_fmult\u001b[0m\u001b[0;34m(\u001b[0m\u001b[0;34m)\u001b[0m\u001b[0;34m\u001b[0m\u001b[0;34m\u001b[0m\u001b[0m\n\u001b[0m\u001b[1;32m      3\u001b[0m \u001b[0mcalc\u001b[0m \u001b[0;34m=\u001b[0m \u001b[0mAlignnAtomwiseCalculator\u001b[0m\u001b[0;34m(\u001b[0m\u001b[0mpath\u001b[0m\u001b[0;34m=\u001b[0m\u001b[0mmodel_path\u001b[0m\u001b[0;34m)\u001b[0m\u001b[0;34m\u001b[0m\u001b[0;34m\u001b[0m\u001b[0m\n\u001b[1;32m      4\u001b[0m \u001b[0;34m\u001b[0m\u001b[0m\n\u001b[1;32m      5\u001b[0m '''\n",
            "\u001b[0;32m/usr/local/lib/python3.10/dist-packages/alignn/ff/ff.py\u001b[0m in \u001b[0;36malignnff_fmult\u001b[0;34m()\u001b[0m\n\u001b[1;32m    161\u001b[0m \u001b[0;32mdef\u001b[0m \u001b[0malignnff_fmult\u001b[0m\u001b[0;34m(\u001b[0m\u001b[0;34m)\u001b[0m\u001b[0;34m:\u001b[0m\u001b[0;34m\u001b[0m\u001b[0;34m\u001b[0m\u001b[0m\n\u001b[1;32m    162\u001b[0m     \u001b[0;34m\"\"\"Get defaukt model path.\"\"\"\u001b[0m\u001b[0;34m\u001b[0m\u001b[0;34m\u001b[0m\u001b[0m\n\u001b[0;32m--> 163\u001b[0;31m     \u001b[0mdpath\u001b[0m \u001b[0;34m=\u001b[0m \u001b[0mget_figshare_model_ff\u001b[0m\u001b[0;34m(\u001b[0m\u001b[0mmodel_name\u001b[0m\u001b[0;34m=\u001b[0m\u001b[0;34m\"alignnff_fmult\"\u001b[0m\u001b[0;34m)\u001b[0m\u001b[0;34m\u001b[0m\u001b[0;34m\u001b[0m\u001b[0m\n\u001b[0m\u001b[1;32m    164\u001b[0m     \u001b[0mprint\u001b[0m\u001b[0;34m(\u001b[0m\u001b[0;34m\"model_path\"\u001b[0m\u001b[0;34m,\u001b[0m \u001b[0mdpath\u001b[0m\u001b[0;34m)\u001b[0m\u001b[0;34m\u001b[0m\u001b[0;34m\u001b[0m\u001b[0m\n\u001b[1;32m    165\u001b[0m     \u001b[0;32mreturn\u001b[0m \u001b[0mdpath\u001b[0m\u001b[0;34m\u001b[0m\u001b[0;34m\u001b[0m\u001b[0m\n",
            "\u001b[0;32m/usr/local/lib/python3.10/dist-packages/alignn/ff/ff.py\u001b[0m in \u001b[0;36mget_figshare_model_ff\u001b[0;34m(model_name, dir_path, filename)\u001b[0m\n\u001b[1;32m    115\u001b[0m                 \u001b[0mfile\u001b[0m\u001b[0;34m.\u001b[0m\u001b[0mwrite\u001b[0m\u001b[0;34m(\u001b[0m\u001b[0mdata\u001b[0m\u001b[0;34m)\u001b[0m\u001b[0;34m\u001b[0m\u001b[0;34m\u001b[0m\u001b[0m\n\u001b[1;32m    116\u001b[0m         \u001b[0mprogress_bar\u001b[0m\u001b[0;34m.\u001b[0m\u001b[0mclose\u001b[0m\u001b[0;34m(\u001b[0m\u001b[0;34m)\u001b[0m\u001b[0;34m\u001b[0m\u001b[0;34m\u001b[0m\u001b[0m\n\u001b[0;32m--> 117\u001b[0;31m         \u001b[0mzp\u001b[0m \u001b[0;34m=\u001b[0m \u001b[0mzipfile\u001b[0m\u001b[0;34m.\u001b[0m\u001b[0mZipFile\u001b[0m\u001b[0;34m(\u001b[0m\u001b[0mpath\u001b[0m\u001b[0;34m)\u001b[0m\u001b[0;34m\u001b[0m\u001b[0;34m\u001b[0m\u001b[0m\n\u001b[0m\u001b[1;32m    118\u001b[0m         \u001b[0mnames\u001b[0m \u001b[0;34m=\u001b[0m \u001b[0mzp\u001b[0m\u001b[0;34m.\u001b[0m\u001b[0mnamelist\u001b[0m\u001b[0;34m(\u001b[0m\u001b[0;34m)\u001b[0m\u001b[0;34m\u001b[0m\u001b[0;34m\u001b[0m\u001b[0m\n\u001b[1;32m    119\u001b[0m         \u001b[0mchks\u001b[0m \u001b[0;34m=\u001b[0m \u001b[0;34m[\u001b[0m\u001b[0;34m]\u001b[0m\u001b[0;34m\u001b[0m\u001b[0;34m\u001b[0m\u001b[0m\n",
            "\u001b[0;32m/usr/lib/python3.10/zipfile.py\u001b[0m in \u001b[0;36m__init__\u001b[0;34m(self, file, mode, compression, allowZip64, compresslevel, strict_timestamps)\u001b[0m\n\u001b[1;32m   1267\u001b[0m         \u001b[0;32mtry\u001b[0m\u001b[0;34m:\u001b[0m\u001b[0;34m\u001b[0m\u001b[0;34m\u001b[0m\u001b[0m\n\u001b[1;32m   1268\u001b[0m             \u001b[0;32mif\u001b[0m \u001b[0mmode\u001b[0m \u001b[0;34m==\u001b[0m \u001b[0;34m'r'\u001b[0m\u001b[0;34m:\u001b[0m\u001b[0;34m\u001b[0m\u001b[0;34m\u001b[0m\u001b[0m\n\u001b[0;32m-> 1269\u001b[0;31m                 \u001b[0mself\u001b[0m\u001b[0;34m.\u001b[0m\u001b[0m_RealGetContents\u001b[0m\u001b[0;34m(\u001b[0m\u001b[0;34m)\u001b[0m\u001b[0;34m\u001b[0m\u001b[0;34m\u001b[0m\u001b[0m\n\u001b[0m\u001b[1;32m   1270\u001b[0m             \u001b[0;32melif\u001b[0m \u001b[0mmode\u001b[0m \u001b[0;32min\u001b[0m \u001b[0;34m(\u001b[0m\u001b[0;34m'w'\u001b[0m\u001b[0;34m,\u001b[0m \u001b[0;34m'x'\u001b[0m\u001b[0;34m)\u001b[0m\u001b[0;34m:\u001b[0m\u001b[0;34m\u001b[0m\u001b[0;34m\u001b[0m\u001b[0m\n\u001b[1;32m   1271\u001b[0m                 \u001b[0;31m# set the modified flag so central directory gets written\u001b[0m\u001b[0;34m\u001b[0m\u001b[0;34m\u001b[0m\u001b[0m\n",
            "\u001b[0;32m/usr/lib/python3.10/zipfile.py\u001b[0m in \u001b[0;36m_RealGetContents\u001b[0;34m(self)\u001b[0m\n\u001b[1;32m   1334\u001b[0m             \u001b[0;32mraise\u001b[0m \u001b[0mBadZipFile\u001b[0m\u001b[0;34m(\u001b[0m\u001b[0;34m\"File is not a zip file\"\u001b[0m\u001b[0;34m)\u001b[0m\u001b[0;34m\u001b[0m\u001b[0;34m\u001b[0m\u001b[0m\n\u001b[1;32m   1335\u001b[0m         \u001b[0;32mif\u001b[0m \u001b[0;32mnot\u001b[0m \u001b[0mendrec\u001b[0m\u001b[0;34m:\u001b[0m\u001b[0;34m\u001b[0m\u001b[0;34m\u001b[0m\u001b[0m\n\u001b[0;32m-> 1336\u001b[0;31m             \u001b[0;32mraise\u001b[0m \u001b[0mBadZipFile\u001b[0m\u001b[0;34m(\u001b[0m\u001b[0;34m\"File is not a zip file\"\u001b[0m\u001b[0;34m)\u001b[0m\u001b[0;34m\u001b[0m\u001b[0;34m\u001b[0m\u001b[0m\n\u001b[0m\u001b[1;32m   1337\u001b[0m         \u001b[0;32mif\u001b[0m \u001b[0mself\u001b[0m\u001b[0;34m.\u001b[0m\u001b[0mdebug\u001b[0m \u001b[0;34m>\u001b[0m \u001b[0;36m1\u001b[0m\u001b[0;34m:\u001b[0m\u001b[0;34m\u001b[0m\u001b[0;34m\u001b[0m\u001b[0m\n\u001b[1;32m   1338\u001b[0m             \u001b[0mprint\u001b[0m\u001b[0;34m(\u001b[0m\u001b[0mendrec\u001b[0m\u001b[0;34m)\u001b[0m\u001b[0;34m\u001b[0m\u001b[0;34m\u001b[0m\u001b[0m\n",
            "\u001b[0;31mBadZipFile\u001b[0m: File is not a zip file"
          ]
        }
      ],
      "source": [
        "from alignn.ff.ff import AlignnAtomwiseCalculator,wt10_path, ForceField, alignnff_fmult #, get_figshare_model_ff, default_path\n",
        "model_path = wt10_path()\n",
        "calc = AlignnAtomwiseCalculator(path=model_path)\n",
        "\n",
        "'''\n",
        "!pip install -q matgl\n",
        "\n",
        "import matgl\n",
        "from matgl.ext.ase import PESCalculator\n",
        "\n",
        "pot = matgl.load_model(\"M3GNet-MP-2021.2.8-PES\")\n",
        "# define the M3GNet calculator\n",
        "# calc = PESCalculator(pot)\n",
        "'''"
      ]
    },
    {
      "cell_type": "code",
      "execution_count": null,
      "metadata": {
        "id": "Cxpih_xfXuaY"
      },
      "outputs": [],
      "source": [
        "def get_species(total_atoms, element_mol_fraction):\n",
        "  '''\n",
        "  In: total_atoms - number of atoms in supercell\n",
        "      element_mol_fraction - dict of elements and fractions\n",
        "\n",
        "  Out: list of elements of len(total_atoms) and compositon of mol fraction\n",
        "\n",
        "  '''\n",
        "\n",
        "  element_atom_count = {element: math.floor(total_atoms * fraction) for element, fraction in element_mol_fraction.items()}\n",
        "\n",
        "  # Calculate the current total and determine how many atoms are missing\n",
        "  current_total = sum(element_atom_count.values())\n",
        "  atoms_to_add = total_atoms - current_total\n",
        "\n",
        "  # Distribute the remaining atoms\n",
        "  for element in sorted(element_mol_fraction, key=lambda e: element_mol_fraction[e], reverse=True):\n",
        "      if atoms_to_add <= 0:\n",
        "          break\n",
        "      element_atom_count[element] += 1\n",
        "      atoms_to_add -= 1\n",
        "\n",
        "  #print(element_atom_count)\n",
        "\n",
        "  species = []\n",
        "\n",
        "  for element, number in element_atom_count.items():\n",
        "    species.extend([element]*number)\n",
        "\n",
        "  return(species)\n",
        "\n",
        "\n",
        "def get_dummy_lattice(xtal, lattice_parameter, supercell):\n",
        "  '''\n",
        "  xtal = str\n",
        "  lattice = float\n",
        "  supercell = tuple\n",
        "  '''\n",
        "\n",
        "  spacegroup = 225\n",
        "\n",
        "  if xtal == 'FCC':\n",
        "    spacegroup = 225\n",
        "  else:\n",
        "    spacegroup = 229\n",
        "\n",
        "\n",
        "  dummy = crystal(('Fe'),\n",
        "    basis=[(0,0,0)],\n",
        "    spacegroup=spacegroup, cellpar=[lattice_parameter, lattice_parameter, lattice_parameter, 90, 90, 90],\n",
        "    size=supercell)\n",
        "\n",
        "  num_atoms = len(dummy.get_chemical_symbols())\n",
        "\n",
        "  return dummy, num_atoms\n",
        "\n",
        "def get_initial_structure(mol_fractions, xtal, lattice_parameter, supercell):\n",
        "\n",
        "  initial, num_atoms = get_dummy_lattice(xtal, lattice_parameter, supercell)\n",
        "  species = get_species(num_atoms, mol_fractions)\n",
        "  initial.set_chemical_symbols(species)\n",
        "  return initial, species\n",
        "\n",
        "\n",
        "def twoway_ttest(data1,data2):\n",
        "  # Perform two-tailed t-test\n",
        "  t_statistic, p_value = ttest_ind(data1, data2)\n",
        "\n",
        "  # Print the results\n",
        "  print(\"T-statistic:\", t_statistic)\n",
        "  print(\"P-value:\", p_value)\n",
        "\n",
        "  # Interpret the results\n",
        "  alpha = 0.05  # significance level\n",
        "  if p_value < alpha:\n",
        "      print(\"Reject null hypothesis: There is a significant difference between the means of the two groups.\")\n",
        "  else:\n",
        "      print(\"Fail to reject null hypothesis: There is no significant difference between the means of the two groups.\")\n",
        "\n",
        "  return t_statistic, p_value\n",
        "\n",
        "\n",
        "def distribution(energies, label, color):\n",
        "  # function for plotting histogram and normal distribution for a given list\n",
        "\n",
        "  mean = np.mean(energies)\n",
        "  std = np.std(energies)\n",
        "  plt.hist(energies, bins=10, density=True, alpha=0.2, color=color, label=label)\n",
        "  xmin, xmax = plt.xlim()\n",
        "  x = np.linspace(xmin, xmax, 100)\n",
        "  p = norm.pdf(x, mean, std)\n",
        "  plt.plot(x, p, linestyle='-', color=color ,linewidth=2)\n",
        "\n",
        "def plot_EV_dict(dictionary,label,color):\n",
        "    # Extract keys and values from dictionary\n",
        "    y_values = list(dictionary.keys())\n",
        "    x_values = list(dictionary.values())\n",
        "\n",
        "    # Plot the data\n",
        "    plt.plot(x_values, y_values, marker='o',label=label,color=color)  # You can customize the marker style as needed\n",
        "\n",
        "def remove_decimals(string):\n",
        "     return re.sub(r'\\.(\\d+)', r'\\1', string)"
      ]
    },
    {
      "cell_type": "code",
      "execution_count": null,
      "metadata": {
        "id": "ozT_THxHnBNq"
      },
      "outputs": [],
      "source": [
        "def EV_data(alloy, parameter_list, xtal, supercell):\n",
        "  '''\n",
        "  make ev data dictionary and find lowest energy lattice parameter\n",
        "\n",
        "  in:\n",
        "  alloy (str)\n",
        "  parameter_list:list\n",
        "  xtal (str)\n",
        "  supercell (3-tuple)\n",
        "\n",
        "  out:\n",
        "  param_energies: dict\n",
        "  lowest_energy: float\n",
        "  '''\n",
        "\n",
        "  # composition object pymatgen to get mol dict\n",
        "  comp = Composition(alloy)\n",
        "  mols = comp.fractional_composition.as_dict()\n",
        "\n",
        "  # get initial structure and list of elements to insert\n",
        "  atoms, species = get_initial_structure(mols, xtal, 4, supercell)\n",
        "  random.shuffle(species)\n",
        "\n",
        "  # total number of atoms = length of species list\n",
        "  num_atoms=len(species)\n",
        "\n",
        "  # initialize variables\n",
        "  param_energies = {}\n",
        "  lowest_energy = float('inf')\n",
        "\n",
        "  # loop through given list of lattice parameters\n",
        "  for a in parameter_list:\n",
        "\n",
        "    # make initial structure using previous function (supercell convinience)\n",
        "    atoms, unused_species = get_initial_structure(mols, xtal, a, supercell)\n",
        "\n",
        "    # setting chemical symbols the SAME way every time means only lattice parameter changes\n",
        "    atoms.set_chemical_symbols(species)\n",
        "\n",
        "    # set calculator each time since making new atoms\n",
        "    atoms.calc = calc\n",
        "\n",
        "    # use ASE calculator to get potential energy of lattice and use num_atoms to get energy/atom\n",
        "    energy = atoms.get_potential_energy()\n",
        "    energy_per_atom = energy/num_atoms\n",
        "\n",
        "    # put entry in dictionary, key on energy for lowest_energy lookup later\n",
        "    param_energies[energy_per_atom]=a\n",
        "\n",
        "    # compare to lowest\n",
        "    if energy_per_atom<lowest_energy:\n",
        "      lowest_energy = energy_per_atom\n",
        "\n",
        "  return param_energies, lowest_energy\n",
        "\n",
        "\n"
      ]
    },
    {
      "cell_type": "code",
      "execution_count": null,
      "metadata": {
        "id": "sc4KrZLo2yFJ"
      },
      "outputs": [],
      "source": [
        "def relax_lattice(ase_atoms,steps=100,fmax=0.1, logfile_name =\"opt.log\"):\n",
        "    '''\n",
        "    Optimizes the lattice structure of a POSCAR file using the specified alignn-ff model\n",
        "\n",
        "    Inputs:\n",
        "      ase_atoms: ase_atoms\n",
        "\n",
        "    Returns:\n",
        "      opt: optimized lattice structure (jarvis.core.atoms.Atoms object)\n",
        "\n",
        "    '''\n",
        "\n",
        "    jarvis_atoms=ase_to_atoms(ase_atoms)\n",
        "\n",
        "    # run alignn-ff on the specified atom system and predict a forcefield\n",
        "\n",
        "    ff = ForceField(\n",
        "        jarvis_atoms=jarvis_atoms,\n",
        "        model_path=model_path,\n",
        "        stress_wt=0.3,\n",
        "        force_multiplier=1,\n",
        "        force_mult_natoms=False,\n",
        "    )\n",
        "\n",
        "    # optimize lattice structure by minimizing energy\n",
        "\n",
        "    opt, en, fs = ff.optimize_atoms(steps=steps,fmax=fmax, logfile = logfile_name)\n",
        "\n",
        "    # convert to ase and get energy per atom\n",
        "    ase = opt.ase_converter()\n",
        "    num_atoms = len(ase.get_chemical_symbols())\n",
        "    energy_per_atom = en/num_atoms\n",
        "\n",
        "    return ase, energy_per_atom"
      ]
    },
    {
      "cell_type": "code",
      "execution_count": null,
      "metadata": {
        "id": "rV_xb9SKkUAz"
      },
      "outputs": [],
      "source": [
        "def random_structure_search(alloy, xtal, lattice, supercell, num_structures):\n",
        "  '''\n",
        "  single function to randomly sample configuration space\n",
        "\n",
        "  in:\n",
        "  alloy (str)\n",
        "  xtal (str)\n",
        "  lattice (float) - parameter\n",
        "  supercell (3-tuple)\n",
        "  num_strucutres (int)\n",
        "\n",
        "  out:\n",
        "  winner: ASE atoms (lowest energy structure)\n",
        "  energies (list)\n",
        "  lowest_energy (float)\n",
        "  '''\n",
        "\n",
        "\n",
        "  # use composition object to turn alloy name into dictionary\n",
        "  comp = Composition(alloy)\n",
        "  mols = comp.fractional_composition.as_dict()\n",
        "\n",
        "  # get initial atoms structure and add ASE calculator (ALIGNN-ff)\n",
        "  # specify cubic spacegroup and supercell dimensions\n",
        "  atoms, species = get_initial_structure(mols, xtal, lattice, supercell)\n",
        "  atoms.set_chemical_symbols(species)\n",
        "\n",
        "  # length of species list = number of atoms\n",
        "  num_atoms = len(species)\n",
        "\n",
        "  # global definition\n",
        "  energies = []\n",
        "  lowest_energy = float('inf')\n",
        "  winner = None\n",
        "\n",
        "  # loop through iterations\n",
        "  for i in tqdm.tqdm(range(num_structures), desc=f'Processing {xtal} {alloy}', unit='iteration'):\n",
        "\n",
        "    # shuffle atom positons\n",
        "    random.shuffle(species)\n",
        "    atoms.set_chemical_symbols(species)\n",
        "\n",
        "\n",
        "    # calculate energy and get energy per atom\n",
        "    atoms.calc = calc\n",
        "    energy = atoms.get_potential_energy()\n",
        "    energy_per_atom = energy/num_atoms\n",
        "    energies.append(energy_per_atom)\n",
        "\n",
        "    # compare to lowest\n",
        "    if energy_per_atom<lowest_energy:\n",
        "\n",
        "      winner = copy.deepcopy(atoms)\n",
        "      lowest_energy = copy.deepcopy(energy_per_atom)\n",
        "\n",
        "\n",
        "  return winner, energies\n"
      ]
    },
    {
      "cell_type": "code",
      "source": [
        "def RSS_all(alloy, xtal, lattice, supercell, num_structures):\n",
        "  '''\n",
        "  single function to randomly sample configuration space\n",
        "\n",
        "  in:\n",
        "  alloy (str)\n",
        "  xtal (str)\n",
        "  lattice (float) - parameter\n",
        "  supercell (3-tuple)\n",
        "  num_strucutres (int)\n",
        "\n",
        "  out:\n",
        "  energies - dict of energy:ASE atoms\n",
        "  '''\n",
        "\n",
        "\n",
        "  # use composition object to turn alloy name into dictionary\n",
        "  comp = Composition(alloy)\n",
        "  mols = comp.fractional_composition.as_dict()\n",
        "\n",
        "  # get initial atoms structure and add ASE calculator (ALIGNN-ff)\n",
        "  # specify cubic spacegroup and supercell dimensions\n",
        "  atoms, species = get_initial_structure(mols, xtal, lattice, supercell)\n",
        "  atoms.set_chemical_symbols(species)\n",
        "\n",
        "  # length of species list = number of atoms\n",
        "  num_atoms = len(species)\n",
        "\n",
        "  # global definition\n",
        "  energies = {}\n",
        "\n",
        "  # loop through iterations\n",
        "  for i in tqdm.tqdm(range(num_structures), desc=f'Processing {xtal} {alloy}', unit='iteration'):\n",
        "\n",
        "    # shuffle atom positons\n",
        "    random.shuffle(species)\n",
        "    atoms.set_chemical_symbols(species)\n",
        "\n",
        "\n",
        "    # calculate energy and get energy per atom\n",
        "    atoms.calc = calc\n",
        "    energy = atoms.get_potential_energy()\n",
        "    energy_per_atom = energy/num_atoms\n",
        "\n",
        "    energies[energy_per_atom]= atoms\n",
        "\n",
        "\n",
        "  return energies"
      ],
      "metadata": {
        "id": "OiSvRK64N9Dd"
      },
      "execution_count": null,
      "outputs": []
    },
    {
      "cell_type": "code",
      "source": [
        "alloy = 'CoCrFeNi'\n",
        "supercell = (3,3,3)\n",
        "num_structures = 10\n",
        "\n",
        "d = RSS_all(alloy, 'FCC', 3.54, supercell, num_structures)\n",
        "\n",
        "low = min(d.keys())\n",
        "high = max(d.keys())\n",
        "\n",
        "med= statistics.mean(d.keys())\n",
        "mean_key = min(d, key=lambda x: abs(x - med))\n",
        "\n",
        "\n",
        "LS = d[low]\n",
        "HS = d[high]\n",
        "MS = d[mean_key]"
      ],
      "metadata": {
        "id": "5VRo6RFRSBDi"
      },
      "execution_count": null,
      "outputs": []
    },
    {
      "cell_type": "code",
      "source": [
        "print(low)\n",
        "view(LS, viewer='x3d')"
      ],
      "metadata": {
        "id": "jGZWILOOXzXM"
      },
      "execution_count": null,
      "outputs": []
    },
    {
      "cell_type": "code",
      "source": [
        "print(mean_key)\n",
        "view(MS, viewer='x3d')"
      ],
      "metadata": {
        "id": "NdP3D8ClY7L0"
      },
      "execution_count": null,
      "outputs": []
    },
    {
      "cell_type": "code",
      "source": [
        "print(high)\n",
        "view(HS, viewer='x3d')"
      ],
      "metadata": {
        "id": "8J8r00y7X1vO"
      },
      "execution_count": null,
      "outputs": []
    },
    {
      "cell_type": "markdown",
      "metadata": {
        "id": "zjxn7Ru-VZ7c"
      },
      "source": [
        "## Function Tests"
      ]
    },
    {
      "cell_type": "code",
      "execution_count": null,
      "metadata": {
        "colab": {
          "base_uri": "https://localhost:8080/",
          "height": 444
        },
        "id": "kPAdi6j3Hqq5",
        "outputId": "43d3ebe9-7e64-4a4a-9d69-c16fa418c754"
      },
      "outputs": [
        {
          "output_type": "stream",
          "name": "stderr",
          "text": [
            "Processing FCC CoCrFeNi:   0%|          | 0/500 [00:00<?, ?iteration/s]/usr/local/lib/python3.10/dist-packages/dgl/backend/pytorch/tensor.py:445: UserWarning: TypedStorage is deprecated. It will be removed in the future and UntypedStorage will be the only storage class. This should only matter to you if you are using storages directly.  To access UntypedStorage directly, use tensor.untyped_storage() instead of tensor.storage()\n",
            "  assert input.numel() == input.storage().size(), (\n",
            "Processing FCC CoCrFeNi:   5%|▍         | 23/500 [00:06<02:10,  3.67iteration/s]\n"
          ]
        },
        {
          "output_type": "error",
          "ename": "KeyboardInterrupt",
          "evalue": "",
          "traceback": [
            "\u001b[0;31m---------------------------------------------------------------------------\u001b[0m",
            "\u001b[0;31mKeyboardInterrupt\u001b[0m                         Traceback (most recent call last)",
            "\u001b[0;32m<ipython-input-8-cfd0ae561f0b>\u001b[0m in \u001b[0;36m<cell line: 23>\u001b[0;34m()\u001b[0m\n\u001b[1;32m     21\u001b[0m \u001b[0;34m\u001b[0m\u001b[0m\n\u001b[1;32m     22\u001b[0m \u001b[0;31m# use avg lattice parameters to do the random structure search for FCC and BCC\u001b[0m\u001b[0;34m\u001b[0m\u001b[0;34m\u001b[0m\u001b[0m\n\u001b[0;32m---> 23\u001b[0;31m \u001b[0mFCCwinner\u001b[0m\u001b[0;34m,\u001b[0m \u001b[0mFCCenergies\u001b[0m \u001b[0;34m=\u001b[0m \u001b[0mrandom_structure_search\u001b[0m\u001b[0;34m(\u001b[0m\u001b[0malloy\u001b[0m\u001b[0;34m,\u001b[0m \u001b[0;34m'FCC'\u001b[0m\u001b[0;34m,\u001b[0m \u001b[0;36m3.54\u001b[0m\u001b[0;34m,\u001b[0m \u001b[0msupercell\u001b[0m\u001b[0;34m,\u001b[0m \u001b[0mnum_structures\u001b[0m\u001b[0;34m)\u001b[0m\u001b[0;34m\u001b[0m\u001b[0;34m\u001b[0m\u001b[0m\n\u001b[0m\u001b[1;32m     24\u001b[0m \u001b[0mBCCwinner\u001b[0m\u001b[0;34m,\u001b[0m \u001b[0mBCCenergies\u001b[0m \u001b[0;34m=\u001b[0m \u001b[0mrandom_structure_search\u001b[0m\u001b[0;34m(\u001b[0m\u001b[0malloy\u001b[0m\u001b[0;34m,\u001b[0m \u001b[0;34m'BCC'\u001b[0m\u001b[0;34m,\u001b[0m \u001b[0;36m3\u001b[0m\u001b[0;34m,\u001b[0m \u001b[0msupercell\u001b[0m\u001b[0;34m,\u001b[0m \u001b[0mnum_structures\u001b[0m\u001b[0;34m)\u001b[0m\u001b[0;34m\u001b[0m\u001b[0;34m\u001b[0m\u001b[0m\n\u001b[1;32m     25\u001b[0m \u001b[0;34m\u001b[0m\u001b[0m\n",
            "\u001b[0;32m<ipython-input-7-0d8b336fb3b3>\u001b[0m in \u001b[0;36mrandom_structure_search\u001b[0;34m(alloy, xtal, lattice, supercell, num_structures)\u001b[0m\n\u001b[1;32m     44\u001b[0m     \u001b[0;31m# calculate energy and get energy per atom\u001b[0m\u001b[0;34m\u001b[0m\u001b[0;34m\u001b[0m\u001b[0m\n\u001b[1;32m     45\u001b[0m     \u001b[0matoms\u001b[0m\u001b[0;34m.\u001b[0m\u001b[0mcalc\u001b[0m \u001b[0;34m=\u001b[0m \u001b[0mcalc\u001b[0m\u001b[0;34m\u001b[0m\u001b[0;34m\u001b[0m\u001b[0m\n\u001b[0;32m---> 46\u001b[0;31m     \u001b[0menergy\u001b[0m \u001b[0;34m=\u001b[0m \u001b[0matoms\u001b[0m\u001b[0;34m.\u001b[0m\u001b[0mget_potential_energy\u001b[0m\u001b[0;34m(\u001b[0m\u001b[0;34m)\u001b[0m\u001b[0;34m\u001b[0m\u001b[0;34m\u001b[0m\u001b[0m\n\u001b[0m\u001b[1;32m     47\u001b[0m     \u001b[0menergy_per_atom\u001b[0m \u001b[0;34m=\u001b[0m \u001b[0menergy\u001b[0m\u001b[0;34m/\u001b[0m\u001b[0mnum_atoms\u001b[0m\u001b[0;34m\u001b[0m\u001b[0;34m\u001b[0m\u001b[0m\n\u001b[1;32m     48\u001b[0m     \u001b[0menergies\u001b[0m\u001b[0;34m.\u001b[0m\u001b[0mappend\u001b[0m\u001b[0;34m(\u001b[0m\u001b[0menergy_per_atom\u001b[0m\u001b[0;34m)\u001b[0m\u001b[0;34m\u001b[0m\u001b[0;34m\u001b[0m\u001b[0m\n",
            "\u001b[0;32m/usr/local/lib/python3.10/dist-packages/ase/atoms.py\u001b[0m in \u001b[0;36mget_potential_energy\u001b[0;34m(self, force_consistent, apply_constraint)\u001b[0m\n\u001b[1;32m    753\u001b[0m                 self, force_consistent=force_consistent)\n\u001b[1;32m    754\u001b[0m         \u001b[0;32melse\u001b[0m\u001b[0;34m:\u001b[0m\u001b[0;34m\u001b[0m\u001b[0;34m\u001b[0m\u001b[0m\n\u001b[0;32m--> 755\u001b[0;31m             \u001b[0menergy\u001b[0m \u001b[0;34m=\u001b[0m \u001b[0mself\u001b[0m\u001b[0;34m.\u001b[0m\u001b[0m_calc\u001b[0m\u001b[0;34m.\u001b[0m\u001b[0mget_potential_energy\u001b[0m\u001b[0;34m(\u001b[0m\u001b[0mself\u001b[0m\u001b[0;34m)\u001b[0m\u001b[0;34m\u001b[0m\u001b[0;34m\u001b[0m\u001b[0m\n\u001b[0m\u001b[1;32m    756\u001b[0m         \u001b[0;32mif\u001b[0m \u001b[0mapply_constraint\u001b[0m\u001b[0;34m:\u001b[0m\u001b[0;34m\u001b[0m\u001b[0;34m\u001b[0m\u001b[0m\n\u001b[1;32m    757\u001b[0m             \u001b[0;32mfor\u001b[0m \u001b[0mconstraint\u001b[0m \u001b[0;32min\u001b[0m \u001b[0mself\u001b[0m\u001b[0;34m.\u001b[0m\u001b[0mconstraints\u001b[0m\u001b[0;34m:\u001b[0m\u001b[0;34m\u001b[0m\u001b[0;34m\u001b[0m\u001b[0m\n",
            "\u001b[0;32m/usr/local/lib/python3.10/dist-packages/ase/calculators/abc.py\u001b[0m in \u001b[0;36mget_potential_energy\u001b[0;34m(self, atoms, force_consistent)\u001b[0m\n\u001b[1;32m     22\u001b[0m         \u001b[0;32melse\u001b[0m\u001b[0;34m:\u001b[0m\u001b[0;34m\u001b[0m\u001b[0;34m\u001b[0m\u001b[0m\n\u001b[1;32m     23\u001b[0m             \u001b[0mname\u001b[0m \u001b[0;34m=\u001b[0m \u001b[0;34m'energy'\u001b[0m\u001b[0;34m\u001b[0m\u001b[0;34m\u001b[0m\u001b[0m\n\u001b[0;32m---> 24\u001b[0;31m         \u001b[0;32mreturn\u001b[0m \u001b[0mself\u001b[0m\u001b[0;34m.\u001b[0m\u001b[0mget_property\u001b[0m\u001b[0;34m(\u001b[0m\u001b[0mname\u001b[0m\u001b[0;34m,\u001b[0m \u001b[0matoms\u001b[0m\u001b[0;34m)\u001b[0m\u001b[0;34m\u001b[0m\u001b[0;34m\u001b[0m\u001b[0m\n\u001b[0m\u001b[1;32m     25\u001b[0m \u001b[0;34m\u001b[0m\u001b[0m\n\u001b[1;32m     26\u001b[0m     \u001b[0;32mdef\u001b[0m \u001b[0mget_potential_energies\u001b[0m\u001b[0;34m(\u001b[0m\u001b[0mself\u001b[0m\u001b[0;34m,\u001b[0m \u001b[0matoms\u001b[0m\u001b[0;34m=\u001b[0m\u001b[0;32mNone\u001b[0m\u001b[0;34m)\u001b[0m\u001b[0;34m:\u001b[0m\u001b[0;34m\u001b[0m\u001b[0;34m\u001b[0m\u001b[0m\n",
            "\u001b[0;32m/usr/local/lib/python3.10/dist-packages/ase/calculators/calculator.py\u001b[0m in \u001b[0;36mget_property\u001b[0;34m(self, name, atoms, allow_calculation)\u001b[0m\n\u001b[1;32m    536\u001b[0m                 \u001b[0mself\u001b[0m\u001b[0;34m.\u001b[0m\u001b[0matoms\u001b[0m \u001b[0;34m=\u001b[0m \u001b[0matoms\u001b[0m\u001b[0;34m.\u001b[0m\u001b[0mcopy\u001b[0m\u001b[0;34m(\u001b[0m\u001b[0;34m)\u001b[0m\u001b[0;34m\u001b[0m\u001b[0;34m\u001b[0m\u001b[0m\n\u001b[1;32m    537\u001b[0m \u001b[0;34m\u001b[0m\u001b[0m\n\u001b[0;32m--> 538\u001b[0;31m             \u001b[0mself\u001b[0m\u001b[0;34m.\u001b[0m\u001b[0mcalculate\u001b[0m\u001b[0;34m(\u001b[0m\u001b[0matoms\u001b[0m\u001b[0;34m,\u001b[0m \u001b[0;34m[\u001b[0m\u001b[0mname\u001b[0m\u001b[0;34m]\u001b[0m\u001b[0;34m,\u001b[0m \u001b[0msystem_changes\u001b[0m\u001b[0;34m)\u001b[0m\u001b[0;34m\u001b[0m\u001b[0;34m\u001b[0m\u001b[0m\n\u001b[0m\u001b[1;32m    539\u001b[0m \u001b[0;34m\u001b[0m\u001b[0m\n\u001b[1;32m    540\u001b[0m         \u001b[0;32mif\u001b[0m \u001b[0mname\u001b[0m \u001b[0;32mnot\u001b[0m \u001b[0;32min\u001b[0m \u001b[0mself\u001b[0m\u001b[0;34m.\u001b[0m\u001b[0mresults\u001b[0m\u001b[0;34m:\u001b[0m\u001b[0;34m\u001b[0m\u001b[0;34m\u001b[0m\u001b[0m\n",
            "\u001b[0;32m/usr/local/lib/python3.10/dist-packages/alignn/ff/ff.py\u001b[0m in \u001b[0;36mcalculate\u001b[0;34m(self, atoms, properties, system_changes)\u001b[0m\n\u001b[1;32m    306\u001b[0m         \u001b[0mj_atoms\u001b[0m \u001b[0;34m=\u001b[0m \u001b[0mase_to_atoms\u001b[0m\u001b[0;34m(\u001b[0m\u001b[0matoms\u001b[0m\u001b[0;34m)\u001b[0m\u001b[0;34m\u001b[0m\u001b[0;34m\u001b[0m\u001b[0m\n\u001b[1;32m    307\u001b[0m         \u001b[0mnum_atoms\u001b[0m \u001b[0;34m=\u001b[0m \u001b[0mj_atoms\u001b[0m\u001b[0;34m.\u001b[0m\u001b[0mnum_atoms\u001b[0m\u001b[0;34m\u001b[0m\u001b[0;34m\u001b[0m\u001b[0m\n\u001b[0;32m--> 308\u001b[0;31m         g, lg = Graph.atom_dgl_multigraph(\n\u001b[0m\u001b[1;32m    309\u001b[0m             \u001b[0mj_atoms\u001b[0m\u001b[0;34m,\u001b[0m\u001b[0;34m\u001b[0m\u001b[0;34m\u001b[0m\u001b[0m\n\u001b[1;32m    310\u001b[0m             \u001b[0mneighbor_strategy\u001b[0m\u001b[0;34m=\u001b[0m\u001b[0mself\u001b[0m\u001b[0;34m.\u001b[0m\u001b[0mconfig\u001b[0m\u001b[0;34m[\u001b[0m\u001b[0;34m\"neighbor_strategy\"\u001b[0m\u001b[0;34m]\u001b[0m\u001b[0;34m,\u001b[0m\u001b[0;34m\u001b[0m\u001b[0;34m\u001b[0m\u001b[0m\n",
            "\u001b[0;32m/usr/local/lib/python3.10/dist-packages/alignn/graphs.py\u001b[0m in \u001b[0;36matom_dgl_multigraph\u001b[0;34m(atoms, neighbor_strategy, cutoff, max_neighbors, atom_features, max_attempts, id, compute_line_graph, use_canonize, use_lattice_prop, cutoff_extra)\u001b[0m\n\u001b[1;32m    407\u001b[0m         \u001b[0mg\u001b[0m\u001b[0;34m.\u001b[0m\u001b[0mndata\u001b[0m\u001b[0;34m[\u001b[0m\u001b[0;34m\"atom_features\"\u001b[0m\u001b[0;34m]\u001b[0m \u001b[0;34m=\u001b[0m \u001b[0mnode_features\u001b[0m\u001b[0;34m\u001b[0m\u001b[0;34m\u001b[0m\u001b[0m\n\u001b[1;32m    408\u001b[0m         \u001b[0mg\u001b[0m\u001b[0;34m.\u001b[0m\u001b[0medata\u001b[0m\u001b[0;34m[\u001b[0m\u001b[0;34m\"r\"\u001b[0m\u001b[0;34m]\u001b[0m \u001b[0;34m=\u001b[0m \u001b[0mr\u001b[0m\u001b[0;34m\u001b[0m\u001b[0;34m\u001b[0m\u001b[0m\n\u001b[0;32m--> 409\u001b[0;31m         \u001b[0mvol\u001b[0m \u001b[0;34m=\u001b[0m \u001b[0matoms\u001b[0m\u001b[0;34m.\u001b[0m\u001b[0mvolume\u001b[0m\u001b[0;34m\u001b[0m\u001b[0;34m\u001b[0m\u001b[0m\n\u001b[0m\u001b[1;32m    410\u001b[0m         \u001b[0mg\u001b[0m\u001b[0;34m.\u001b[0m\u001b[0mndata\u001b[0m\u001b[0;34m[\u001b[0m\u001b[0;34m\"V\"\u001b[0m\u001b[0;34m]\u001b[0m \u001b[0;34m=\u001b[0m \u001b[0mtorch\u001b[0m\u001b[0;34m.\u001b[0m\u001b[0mtensor\u001b[0m\u001b[0;34m(\u001b[0m\u001b[0;34m[\u001b[0m\u001b[0mvol\u001b[0m \u001b[0;32mfor\u001b[0m \u001b[0mii\u001b[0m \u001b[0;32min\u001b[0m \u001b[0mrange\u001b[0m\u001b[0;34m(\u001b[0m\u001b[0matoms\u001b[0m\u001b[0;34m.\u001b[0m\u001b[0mnum_atoms\u001b[0m\u001b[0;34m)\u001b[0m\u001b[0;34m]\u001b[0m\u001b[0;34m)\u001b[0m\u001b[0;34m\u001b[0m\u001b[0;34m\u001b[0m\u001b[0m\n\u001b[1;32m    411\u001b[0m         \u001b[0mg\u001b[0m\u001b[0;34m.\u001b[0m\u001b[0mndata\u001b[0m\u001b[0;34m[\u001b[0m\u001b[0;34m\"coords\"\u001b[0m\u001b[0;34m]\u001b[0m \u001b[0;34m=\u001b[0m \u001b[0mtorch\u001b[0m\u001b[0;34m.\u001b[0m\u001b[0mtensor\u001b[0m\u001b[0;34m(\u001b[0m\u001b[0matoms\u001b[0m\u001b[0;34m.\u001b[0m\u001b[0mcart_coords\u001b[0m\u001b[0;34m)\u001b[0m\u001b[0;34m\u001b[0m\u001b[0;34m\u001b[0m\u001b[0m\n",
            "\u001b[0;32m/usr/local/lib/python3.10/dist-packages/jarvis/core/atoms.py\u001b[0m in \u001b[0;36mvolume\u001b[0;34m(self)\u001b[0m\n\u001b[1;32m   1037\u001b[0m         \u001b[0;34m\"\"\"Get volume of the atoms object.\"\"\"\u001b[0m\u001b[0;34m\u001b[0m\u001b[0;34m\u001b[0m\u001b[0m\n\u001b[1;32m   1038\u001b[0m         \u001b[0mm\u001b[0m \u001b[0;34m=\u001b[0m \u001b[0mself\u001b[0m\u001b[0;34m.\u001b[0m\u001b[0mlattice_mat\u001b[0m\u001b[0;34m\u001b[0m\u001b[0;34m\u001b[0m\u001b[0m\n\u001b[0;32m-> 1039\u001b[0;31m         \u001b[0mvol\u001b[0m \u001b[0;34m=\u001b[0m \u001b[0mfloat\u001b[0m\u001b[0;34m(\u001b[0m\u001b[0mabs\u001b[0m\u001b[0;34m(\u001b[0m\u001b[0mnp\u001b[0m\u001b[0;34m.\u001b[0m\u001b[0mdot\u001b[0m\u001b[0;34m(\u001b[0m\u001b[0mnp\u001b[0m\u001b[0;34m.\u001b[0m\u001b[0mcross\u001b[0m\u001b[0;34m(\u001b[0m\u001b[0mm\u001b[0m\u001b[0;34m[\u001b[0m\u001b[0;36m0\u001b[0m\u001b[0;34m]\u001b[0m\u001b[0;34m,\u001b[0m \u001b[0mm\u001b[0m\u001b[0;34m[\u001b[0m\u001b[0;36m1\u001b[0m\u001b[0;34m]\u001b[0m\u001b[0;34m)\u001b[0m\u001b[0;34m,\u001b[0m \u001b[0mm\u001b[0m\u001b[0;34m[\u001b[0m\u001b[0;36m2\u001b[0m\u001b[0;34m]\u001b[0m\u001b[0;34m)\u001b[0m\u001b[0;34m)\u001b[0m\u001b[0;34m)\u001b[0m\u001b[0;34m\u001b[0m\u001b[0;34m\u001b[0m\u001b[0m\n\u001b[0m\u001b[1;32m   1040\u001b[0m         \u001b[0;32mreturn\u001b[0m \u001b[0mvol\u001b[0m\u001b[0;34m\u001b[0m\u001b[0;34m\u001b[0m\u001b[0m\n\u001b[1;32m   1041\u001b[0m \u001b[0;34m\u001b[0m\u001b[0m\n",
            "\u001b[0;32m/usr/local/lib/python3.10/dist-packages/numpy/core/numeric.py\u001b[0m in \u001b[0;36mcross\u001b[0;34m(a, b, axisa, axisb, axisc, axis)\u001b[0m\n\u001b[1;32m   1597\u001b[0m \u001b[0;34m\u001b[0m\u001b[0m\n\u001b[1;32m   1598\u001b[0m     \u001b[0;31m# Create the output array\u001b[0m\u001b[0;34m\u001b[0m\u001b[0;34m\u001b[0m\u001b[0m\n\u001b[0;32m-> 1599\u001b[0;31m     \u001b[0mshape\u001b[0m \u001b[0;34m=\u001b[0m \u001b[0mbroadcast\u001b[0m\u001b[0;34m(\u001b[0m\u001b[0ma\u001b[0m\u001b[0;34m[\u001b[0m\u001b[0;34m...\u001b[0m\u001b[0;34m,\u001b[0m \u001b[0;36m0\u001b[0m\u001b[0;34m]\u001b[0m\u001b[0;34m,\u001b[0m \u001b[0mb\u001b[0m\u001b[0;34m[\u001b[0m\u001b[0;34m...\u001b[0m\u001b[0;34m,\u001b[0m \u001b[0;36m0\u001b[0m\u001b[0;34m]\u001b[0m\u001b[0;34m)\u001b[0m\u001b[0;34m.\u001b[0m\u001b[0mshape\u001b[0m\u001b[0;34m\u001b[0m\u001b[0;34m\u001b[0m\u001b[0m\n\u001b[0m\u001b[1;32m   1600\u001b[0m     \u001b[0;32mif\u001b[0m \u001b[0ma\u001b[0m\u001b[0;34m.\u001b[0m\u001b[0mshape\u001b[0m\u001b[0;34m[\u001b[0m\u001b[0;34m-\u001b[0m\u001b[0;36m1\u001b[0m\u001b[0;34m]\u001b[0m \u001b[0;34m==\u001b[0m \u001b[0;36m3\u001b[0m \u001b[0;32mor\u001b[0m \u001b[0mb\u001b[0m\u001b[0;34m.\u001b[0m\u001b[0mshape\u001b[0m\u001b[0;34m[\u001b[0m\u001b[0;34m-\u001b[0m\u001b[0;36m1\u001b[0m\u001b[0;34m]\u001b[0m \u001b[0;34m==\u001b[0m \u001b[0;36m3\u001b[0m\u001b[0;34m:\u001b[0m\u001b[0;34m\u001b[0m\u001b[0;34m\u001b[0m\u001b[0m\n\u001b[1;32m   1601\u001b[0m         \u001b[0mshape\u001b[0m \u001b[0;34m+=\u001b[0m \u001b[0;34m(\u001b[0m\u001b[0;36m3\u001b[0m\u001b[0;34m,\u001b[0m\u001b[0;34m)\u001b[0m\u001b[0;34m\u001b[0m\u001b[0;34m\u001b[0m\u001b[0m\n",
            "\u001b[0;31mKeyboardInterrupt\u001b[0m: "
          ]
        }
      ],
      "source": [
        "alloy = 'CoCrFeNi'\n",
        "supercell = (3,3,3)\n",
        "num_structures = 500\n",
        "alloy_string = remove_decimals(alloy)\n",
        "\n",
        "\n",
        "# use avg lattice parameters to do the random structure search for FCC and BCC\n",
        "FCCwinner, FCCenergies = random_structure_search(alloy, 'FCC', 3.54, supercell, num_structures)\n",
        "BCCwinner, BCCenergies = random_structure_search(alloy, 'BCC', 3, supercell, num_structures)\n",
        "\n",
        "# use for prediction pre relax\n",
        "FCCmin = min(FCCenergies)\n",
        "BCCmin = min(BCCenergies)\n",
        "\n",
        "'''\n",
        "# relax the winning structures and find the energy\n",
        "FCCrelaxed, FCC_ground_energy = relax_lattice(FCCwinner,logfile_name=f'{alloy_string}_FCC.log')\n",
        "BCCrelaxed, BCC_ground_energy = relax_lattice(BCCwinner,logfile_name=f'{alloy_string}_BCC.log')\n",
        "'''\n",
        "\n",
        "\n",
        "# make row dictionary for concat\n",
        "row_dict = {'alloy':alloy, 'FCClowest_before_relaxation': FCCmin, 'BCClowest_before_relaxation':BCCmin,\n",
        "            'FCClowest':FCC_ground_energy, 'BCClowest':BCC_ground_energy, 'FCCenergies':FCCenergies,\n",
        "            'BCCenergies':BCCenergies, 'FCC parameter': FCCa, 'BCC parameter':BCCa,\n",
        "            'FCC ev1': FCC1, 'BCC ev1':BCC1}\n",
        "\n",
        "\n"
      ]
    },
    {
      "cell_type": "code",
      "execution_count": null,
      "metadata": {
        "id": "jn2X9jiSIgnV"
      },
      "outputs": [],
      "source": [
        "%matplotlib inline\n",
        "\n",
        "plot_EV_dict(FCC1,'FCC','g')\n",
        "plot_EV_dict(BCC1,'BCC','b')\n",
        "\n",
        "\n",
        "\n",
        "plt.xlabel('lattice parameter')\n",
        "plt.ylabel('energy per atom')\n",
        "plt.title(f'EV curve for {alloy}')\n",
        "plt.legend()\n",
        "plt.grid(True)\n",
        "plt.show()\n"
      ]
    },
    {
      "cell_type": "code",
      "source": [
        "alloy = 'CoCrFeNi'\n",
        "supercell = (3,3,3)\n",
        "num_structures = 100\n",
        "\n",
        "FCC = RSS_all(alloy, 'FCC', 3.54, supercell, num_structures)\n",
        "\n",
        "FCCenergies=list(FCC.keys())\n",
        "Flow = min(FCC.keys())\n",
        "Fhigh = max(FCC.keys())\n",
        "Fmean= statistics.mean(FCC.keys())\n",
        "Fmed = min(FCC, key=lambda x: abs(x - med))\n",
        "\n",
        "BCC = RSS_all(alloy, 'FCC', 3.54, supercell, num_structures)\n",
        "\n",
        "BCCenergies=list(BCC.keys())\n",
        "Blow = min(BCC.keys())\n",
        "Bhigh = max(BCC.keys())\n",
        "Bmean= statistics.mean(BCC.keys())\n",
        "Bmed = min(BCC, key=lambda x: abs(x - med))\n",
        "\n",
        "'''\n",
        "FLS = FCC[low]\n",
        "FHS = FCC[high]\n",
        "FMS = FCC[mean_key]\n",
        "'''"
      ],
      "metadata": {
        "colab": {
          "base_uri": "https://localhost:8080/",
          "height": 125
        },
        "id": "gthrW7cxagwh",
        "outputId": "0ef76664-c3bd-420c-f948-06b814051d67"
      },
      "execution_count": 35,
      "outputs": [
        {
          "output_type": "stream",
          "name": "stderr",
          "text": [
            "\rProcessing FCC CoCrFeNi:   0%|          | 0/100 [00:00<?, ?iteration/s]/usr/local/lib/python3.10/dist-packages/dgl/backend/pytorch/tensor.py:445: UserWarning: TypedStorage is deprecated. It will be removed in the future and UntypedStorage will be the only storage class. This should only matter to you if you are using storages directly.  To access UntypedStorage directly, use tensor.untyped_storage() instead of tensor.storage()\n",
            "  \n",
            "Processing FCC CoCrFeNi: 100%|██████████| 100/100 [00:25<00:00,  3.96iteration/s]\n",
            "Processing FCC CoCrFeNi: 100%|██████████| 100/100 [00:24<00:00,  4.00iteration/s]\n"
          ]
        },
        {
          "output_type": "execute_result",
          "data": {
            "text/plain": [
              "'\\nFLS = FCC[low]\\nFHS = FCC[high]\\nFMS = FCC[mean_key]\\n'"
            ],
            "application/vnd.google.colaboratory.intrinsic+json": {
              "type": "string"
            }
          },
          "metadata": {},
          "execution_count": 35
        }
      ]
    },
    {
      "cell_type": "code",
      "execution_count": 36,
      "metadata": {
        "id": "eFYgEWE3ShOy",
        "colab": {
          "base_uri": "https://localhost:8080/",
          "height": 524
        },
        "outputId": "ec8586b5-5ecb-4136-bb17-e6c8067ecbb4"
      },
      "outputs": [
        {
          "output_type": "stream",
          "name": "stdout",
          "text": [
            "T-statistic: 0.8419903611576985\n",
            "P-value: 0.40080918265042287\n",
            "Fail to reject null hypothesis: There is no significant difference between the means of the two groups.\n"
          ]
        },
        {
          "output_type": "display_data",
          "data": {
            "text/plain": [
              "<Figure size 640x480 with 1 Axes>"
            ],
            "image/png": "[encoded data removed]"
          },
          "metadata": {}
        }
      ],
      "source": [
        "distribution(FCCenergies, 'FCC', 'g')\n",
        "distribution(BCCenergies, 'BCC', 'b')\n",
        "\n",
        "plt.axvline(x=Flow, color='r', linestyle='--')\n",
        "plt.axvline(x=Fmed, color='g', linestyle='--')\n",
        "plt.axvline(x=Fhigh, color='b', linestyle='--')\n",
        "plt.axvline(x=Blow, color='r', linestyle='--')\n",
        "plt.axvline(x=Bmed, color='g', linestyle='--')\n",
        "plt.axvline(x=Bhigh, color='b', linestyle='--')\n",
        "\n",
        "# get statistics\n",
        "t_stat, p_val = twoway_ttest(FCCenergies, BCCenergies)\n",
        "\n",
        "\n",
        "plt.title(f'Energy Distribution across random FCC/BCC {alloy} structures')\n",
        "plt.xlabel('Energy')\n",
        "plt.grid(True)\n",
        "plt.legend()\n",
        "plt.show()"
      ]
    },
    {
      "cell_type": "code",
      "execution_count": null,
      "metadata": {
        "id": "FcjaxQ7wWQi6"
      },
      "outputs": [],
      "source": [
        "print(row_dict['FCClowest_before_relaxation'])\n",
        "print(row_dict['BCClowest_before_relaxation'])"
      ]
    },
    {
      "cell_type": "code",
      "execution_count": null,
      "metadata": {
        "id": "zkABctWUcfLw"
      },
      "outputs": [],
      "source": [
        "# relax the winning structures and find the energy\n",
        "FCCrelaxed, FCC_ground_energy = relax_lattice(FCCwinner, fmax = 0.05, logfile_name=f'{alloy_string}_FCC.log')\n",
        "BCCrelaxed, BCC_ground_energy = relax_lattice(BCCwinner, fmax = 0.05, logfile_name=f'{alloy_string}_BCC.log')\n",
        "print(FCC_ground_energy, BCC_ground_energy)"
      ]
    },
    {
      "cell_type": "code",
      "execution_count": null,
      "metadata": {
        "id": "mEZwIGqhcYoQ"
      },
      "outputs": [],
      "source": [
        "# relax the winning structures and find the energy\n",
        "FCCrelaxed, FCC_ground_2 = relax_lattice(FCCwinner, fmax = 0.05, logfile_name=f'{alloy_string}_FCC2.log')\n",
        "BCCrelaxed, BCC_ground_2 = relax_lattice(BCCwinner, fmax = 0.05, logfile_name=f'{alloy_string}_BCC2.log')\n",
        "print(FCC_ground_2, BCC_ground_2)"
      ]
    },
    {
      "cell_type": "code",
      "execution_count": null,
      "metadata": {
        "id": "orPNoqIEcs1G"
      },
      "outputs": [],
      "source": [
        "print(FCC_ground_energy, BCC_ground_energy)"
      ]
    },
    {
      "cell_type": "code",
      "execution_count": null,
      "metadata": {
        "id": "9NJnn3e6Xh1G"
      },
      "outputs": [],
      "source": [
        "view('FCCwinner', viewer='x3d')"
      ]
    },
    {
      "cell_type": "markdown",
      "metadata": {
        "id": "CWo5cQKHU_8z"
      },
      "source": [
        "## Test on experimental dataset\n"
      ]
    },
    {
      "cell_type": "code",
      "execution_count": 37,
      "metadata": {
        "id": "dosGdO_AOzF5",
        "colab": {
          "base_uri": "https://localhost:8080/"
        },
        "outputId": "de57a3db-9218-4322-8f80-5b837a5b2aba"
      },
      "outputs": [
        {
          "output_type": "stream",
          "name": "stdout",
          "text": [
            "Mounted at /content/drive\n"
          ]
        }
      ],
      "source": [
        "from google.colab import drive\n",
        "drive.mount('/content/drive')\n",
        "criteria = pd.read_csv('/content/drive/MyDrive/Senior Project - ML prediction of HEAs/FINAL datasets/phase_criteria.csv')\n",
        "criteria = criteria[~criteria['Experimental'].isna()]"
      ]
    },
    {
      "cell_type": "code",
      "execution_count": 40,
      "metadata": {
        "id": "l1IsFrdYVg1f",
        "colab": {
          "base_uri": "https://localhost:8080/"
        },
        "outputId": "2046c418-ecd3-42a3-fad3-fa71ce053b6d"
      },
      "outputs": [
        {
          "output_type": "stream",
          "name": "stdout",
          "text": [
            "132\n",
            "['Al0.25MoNbTiV', 'Al2CoCrFeMo0.5Ni', 'CoCrMnNi', 'Al2.5CoCrFeNi', 'Al0.3CoCrCuFeNi', 'AlCoCrFeNb0.1Ni', 'Al0.25CoCrCu0.75FeNiTi0.5', 'CoCrFeNiTi', 'Al2.8CoCrCuFe', 'AlCoFeNi', 'Al0.5CrFe1.5MnNi0.5', 'NbTiV0.3Mo0.7', 'AlCrFeNi', 'CoFeNiV', 'CoCuFeMnNi', 'NbTiV0.3Mo1.3', 'CrCuFeMoNi', 'CoCrFeMnNiV0.25', 'HfMo0.25NbTaTiZr', 'CoCrFeMnNiV0.5', 'NbTiV0.3Mo0.5', 'NbTiV0.3Zr', 'MoNbTiV0.25Zr', 'CoCrCu0.5FeNi', 'FeMnNi', 'Al3CoCrCuFeNi', 'CoCrCuFeNiTi', 'MoNbTaW', 'MoNbTiZr', 'Al1.25CoCrFeMnNi', 'Al0.75HfNbTaTiZr', 'Al0.25CoFeNi', 'AlCrFeNiMo0.2', 'Mo0.5NbTiVZr', 'CoMnNi', 'AlCoFeNiTiVZr', 'CoCrCuFe', 'AlMo0.5NbTa0.5TiZr', 'CoCrNi', 'Co1.5CrFeNi1.5Ti0.5', 'MoNbTiV1.5Zr', 'NbTaTiV', 'Al0.25NbTaTiV', 'Al0.875CoCrFeNi', 'Al0.2Co1.5CrFeNi1.5Ti0.5', 'Al0.5CoCrCuFeNiV1.6', 'MoNbTaV', 'HfNbTiZr', 'Al0.3HfNbTaTiZr', 'AlCoCrCuNiTi', 'CoCuFeNiSn0.02', 'Al0.5CoCrCuFeNiTi0.4', 'NbTiV0.3Mo1.5', 'AlCrFeNiMo0.5', 'Al0.5CoCrCuFeNiTi0.2', 'Al0.25CoCrCu0.5FeNiTi0.5', 'Al0.8CoCrCuFeNi', 'Mo1.3NbTiVZr', 'HfMoTaTiZr', 'AlCoCrFeNiSi', 'Al0.5CoCrCuFeNiV1.4', 'AlCoCrFeNiSi0.2', 'AlCuNiTi', 'AlNb1.5Ta0.5Ti1.5Zr0.5', 'MoNbTiV0.75Zr', 'NbTaVW', 'Al0.5CoCrCuFeNiV1.2', 'HfMo0.5NbTaTiZr', 'Mo0.7NbTiVZr', 'MoNbTiV', 'Mo2NbTiVZr', 'NbTiV0.3Mo', 'HfMo0.75NbTaTiZr', 'Al0.5CoCrCuFeNiV0.2', 'Al0.4Hf0.6NbTaTiZr', 'Al0.6CrCuFeNi2', 'Al0.3NbTa0.8Ti1.4V0.2Zr1.3', 'Al1.5CoCrFeNiTi', 'AlMoNbTiV', 'Al0.2CrCuFeNi2', 'Al0.5NbTa0.8Ti1.5V0.2Zr', 'Al1.125CuFe0.75NiTi1.125', 'NbTiV2Zr', 'Al0.38CoCrFeMnNi', 'Al2.8CoCrCuFeNi', 'Mo1.5NbTiVZr', 'Al0.3NbTaTi1.4Zr1.3', 'AlCr0.5NbTiV', 'Al3CoCrFeNi', 'NbTiV0.3Mo0.3', 'HfMoNbZrTi', 'HfNbTaZr', 'Mo0.3NbTiVZr', 'Mo1.7NbTiVZr', 'Al0.3CoCrCuFe', 'Al0.4CrCuFeNi2', 'Al0.5CoCrCuFe', 'Al0.5MoNbTiV', 'Al0.5NbTaTiV', 'Al0.8CrCuFeNi2', 'Al0.75MoNbTiV', 'AlCoCrFeMo0.1Ni', 'AlCoCrFeNiSi0.4', 'AlCoCrFeNiSi0.6', 'CoCuFeNi', 'CoFeMnNi', 'MoNbTiVZr', 'Al2CoCrFeNiTi', 'Al0.5HfNbTaTiZr', 'AlCoCrFeNiTi', 'AlNbTaTiV', 'Al0.5CoCrCuFeNiV1.8', 'AlNbTiV', 'Al0.5CoCrCuFeNi', 'Al0.25CoCrFeNi', 'HfMoNbTaTiZr', 'HfNbTaTiZr', 'CoCrFeNi', 'CoCrCuFeNiTi0.5', 'MoNbTaVW', 'CoCrCuFeNi', 'Al2CoCrFeNi', 'NbTiVZr', 'CoFeNi', 'AlCoCrFeNi', 'CoFeNiSi0.25', 'AlCoCrFeNiTi0.5', 'Al1.5CoCrFeNi', 'Al1.25CoCrFeNi', 'Al0.375CoCrFeNi', 'CoCrFeMnNi', 'CoCuFeMnNiSn0.03']\n"
          ]
        }
      ],
      "source": [
        "alloys = list(criteria['alloy'])\n",
        "print(len(alloys))\n",
        "print(alloys)"
      ]
    },
    {
      "cell_type": "markdown",
      "source": [
        "### Original"
      ],
      "metadata": {
        "id": "-NJoM8vhdEv8"
      }
    },
    {
      "cell_type": "code",
      "execution_count": 41,
      "metadata": {
        "id": "XcbDEMOUWUeL",
        "colab": {
          "base_uri": "https://localhost:8080/",
          "height": 0
        },
        "outputId": "252baca2-a36e-4d1c-b5a1-555136625a28"
      },
      "outputs": [
        {
          "output_type": "execute_result",
          "data": {
            "text/plain": [
              "Empty DataFrame\n",
              "Columns: [alloy, FCClowest_before_relaxation, BCClowest_before_relaxation, FCClowest, BCClowest, FCCenergies, BCCenergies, FCC parameter, BCC parameter, FCC logfile, BCC logfile]\n",
              "Index: []"
            ],
            "text/html": [
              "\n",
              "  <div id=\"df-040ea801-235e-422e-ba67-98168f2f73d8\" class=\"colab-df-container\">\n",
              "    <div>\n",
              "<style scoped>\n",
              "    .dataframe tbody tr th:only-of-type {\n",
              "        vertical-align: middle;\n",
              "    }\n",
              "\n",
              "    .dataframe tbody tr th {\n",
              "        vertical-align: top;\n",
              "    }\n",
              "\n",
              "    .dataframe thead th {\n",
              "        text-align: right;\n",
              "    }\n",
              "</style>\n",
              "<table border=\"1\" class=\"dataframe\">\n",
              "  <thead>\n",
              "    <tr style=\"text-align: right;\">\n",
              "      <th></th>\n",
              "      <th>alloy</th>\n",
              "      <th>FCClowest_before_relaxation</th>\n",
              "      <th>BCClowest_before_relaxation</th>\n",
              "      <th>FCClowest</th>\n",
              "      <th>BCClowest</th>\n",
              "      <th>FCCenergies</th>\n",
              "      <th>BCCenergies</th>\n",
              "      <th>FCC parameter</th>\n",
              "      <th>BCC parameter</th>\n",
              "      <th>FCC logfile</th>\n",
              "      <th>BCC logfile</th>\n",
              "    </tr>\n",
              "  </thead>\n",
              "  <tbody>\n",
              "  </tbody>\n",
              "</table>\n",
              "</div>\n",
              "    <div class=\"colab-df-buttons\">\n",
              "\n",
              "  <div class=\"colab-df-container\">\n",
              "    <button class=\"colab-df-convert\" onclick=\"convertToInteractive('df-040ea801-235e-422e-ba67-98168f2f73d8')\"\n",
              "            title=\"Convert this dataframe to an interactive table.\"\n",
              "            style=\"display:none;\">\n",
              "\n",
              "  <svg xmlns=\"http://www.w3.org/2000/svg\" height=\"24px\" viewBox=\"0 -960 960 960\">\n",
              "    <path d=\"M120-120v-720h720v720H120Zm60-500h600v-160H180v160Zm220 220h160v-160H400v160Zm0 220h160v-160H400v160ZM180-400h160v-160H180v160Zm440 0h160v-160H620v160ZM180-180h160v-160H180v160Zm440 0h160v-160H620v160Z\"/>\n",
              "  </svg>\n",
              "    </button>\n",
              "\n",
              "  <style>\n",
              "    .colab-df-container {\n",
              "      display:flex;\n",
              "      gap: 12px;\n",
              "    }\n",
              "\n",
              "    .colab-df-convert {\n",
              "      background-color: #E8F0FE;\n",
              "      border: none;\n",
              "      border-radius: 50%;\n",
              "      cursor: pointer;\n",
              "      display: none;\n",
              "      fill: #1967D2;\n",
              "      height: 32px;\n",
              "      padding: 0 0 0 0;\n",
              "      width: 32px;\n",
              "    }\n",
              "\n",
              "    .colab-df-convert:hover {\n",
              "      background-color: #E2EBFA;\n",
              "      box-shadow: 0px 1px 2px rgba(60, 64, 67, 0.3), 0px 1px 3px 1px rgba(60, 64, 67, 0.15);\n",
              "      fill: #174EA6;\n",
              "    }\n",
              "\n",
              "    .colab-df-buttons div {\n",
              "      margin-bottom: 4px;\n",
              "    }\n",
              "\n",
              "    [theme=dark] .colab-df-convert {\n",
              "      background-color: #3B4455;\n",
              "      fill: #D2E3FC;\n",
              "    }\n",
              "\n",
              "    [theme=dark] .colab-df-convert:hover {\n",
              "      background-color: #434B5C;\n",
              "      box-shadow: 0px 1px 3px 1px rgba(0, 0, 0, 0.15);\n",
              "      filter: drop-shadow(0px 1px 2px rgba(0, 0, 0, 0.3));\n",
              "      fill: #FFFFFF;\n",
              "    }\n",
              "  </style>\n",
              "\n",
              "    <script>\n",
              "      const buttonEl =\n",
              "        document.querySelector('#df-040ea801-235e-422e-ba67-98168f2f73d8 button.colab-df-convert');\n",
              "      buttonEl.style.display =\n",
              "        google.colab.kernel.accessAllowed ? 'block' : 'none';\n",
              "\n",
              "      async function convertToInteractive(key) {\n",
              "        const element = document.querySelector('#df-040ea801-235e-422e-ba67-98168f2f73d8');\n",
              "        const dataTable =\n",
              "          await google.colab.kernel.invokeFunction('convertToInteractive',\n",
              "                                                    [key], {});\n",
              "        if (!dataTable) return;\n",
              "\n",
              "        const docLinkHtml = 'Like what you see? Visit the ' +\n",
              "          '<a target=\"_blank\" href=https://colab.research.google.com/notebooks/data_table.ipynb>data table notebook</a>'\n",
              "          + ' to learn more about interactive tables.';\n",
              "        element.innerHTML = '';\n",
              "        dataTable['output_type'] = 'display_data';\n",
              "        await google.colab.output.renderOutput(dataTable, element);\n",
              "        const docLink = document.createElement('div');\n",
              "        docLink.innerHTML = docLinkHtml;\n",
              "        element.appendChild(docLink);\n",
              "      }\n",
              "    </script>\n",
              "  </div>\n",
              "\n",
              "\n",
              "    </div>\n",
              "  </div>\n"
            ],
            "application/vnd.google.colaboratory.intrinsic+json": {
              "type": "dataframe",
              "variable_name": "monte",
              "repr_error": "Out of range float values are not JSON compliant: nan"
            }
          },
          "metadata": {},
          "execution_count": 41
        }
      ],
      "source": [
        "columns = ['alloy', 'FCClowest_before_relaxation', 'BCClowest_before_relaxation',\n",
        "           'FCClowest', 'BCClowest', 'FCCenergies','BCCenergies',\n",
        "           'FCC parameter','BCC parameter',\n",
        "           'FCC logfile', 'BCC logfile']\n",
        "\n",
        "monte = pd.DataFrame(columns=columns)\n",
        "monte.head()"
      ]
    },
    {
      "cell_type": "code",
      "execution_count": 43,
      "metadata": {
        "id": "-zFzGFivfFdR",
        "colab": {
          "base_uri": "https://localhost:8080/"
        },
        "outputId": "6f8e3cd6-68a3-491d-95c5-44eaf4f47bff"
      },
      "outputs": [
        {
          "output_type": "stream",
          "name": "stdout",
          "text": [
            "['Al0.25MoNbTiV', 'Al2CoCrFeMo0.5Ni', 'CoCrMnNi', 'Al2.5CoCrFeNi', 'Al0.3CoCrCuFeNi', 'AlCoCrFeNb0.1Ni', 'Al0.25CoCrCu0.75FeNiTi0.5', 'CoCrFeNiTi', 'Al2.8CoCrCuFe', 'AlCoFeNi', 'Al0.5CrFe1.5MnNi0.5', 'NbTiV0.3Mo0.7', 'AlCrFeNi', 'CoFeNiV', 'CoCuFeMnNi', 'NbTiV0.3Mo1.3', 'CrCuFeMoNi', 'CoCrFeMnNiV0.25', 'HfMo0.25NbTaTiZr', 'CoCrFeMnNiV0.5', 'NbTiV0.3Mo0.5', 'NbTiV0.3Zr', 'MoNbTiV0.25Zr', 'CoCrCu0.5FeNi', 'FeMnNi', 'Al3CoCrCuFeNi', 'CoCrCuFeNiTi', 'MoNbTaW', 'MoNbTiZr', 'Al1.25CoCrFeMnNi', 'Al0.75HfNbTaTiZr', 'Al0.25CoFeNi', 'AlCrFeNiMo0.2', 'Mo0.5NbTiVZr', 'CoMnNi', 'AlCoFeNiTiVZr', 'CoCrCuFe', 'AlMo0.5NbTa0.5TiZr', 'CoCrNi', 'Co1.5CrFeNi1.5Ti0.5', 'MoNbTiV1.5Zr', 'NbTaTiV', 'Al0.25NbTaTiV', 'Al0.875CoCrFeNi', 'Al0.2Co1.5CrFeNi1.5Ti0.5', 'Al0.5CoCrCuFeNiV1.6', 'MoNbTaV', 'HfNbTiZr', 'Al0.3HfNbTaTiZr', 'AlCoCrCuNiTi', 'CoCuFeNiSn0.02', 'Al0.5CoCrCuFeNiTi0.4', 'NbTiV0.3Mo1.5', 'AlCrFeNiMo0.5', 'Al0.5CoCrCuFeNiTi0.2', 'Al0.25CoCrCu0.5FeNiTi0.5', 'Al0.8CoCrCuFeNi', 'Mo1.3NbTiVZr', 'HfMoTaTiZr', 'AlCoCrFeNiSi', 'Al0.5CoCrCuFeNiV1.4', 'AlCoCrFeNiSi0.2', 'AlCuNiTi', 'AlNb1.5Ta0.5Ti1.5Zr0.5', 'MoNbTiV0.75Zr', 'NbTaVW', 'Al0.5CoCrCuFeNiV1.2', 'HfMo0.5NbTaTiZr', 'Mo0.7NbTiVZr', 'MoNbTiV', 'Mo2NbTiVZr', 'NbTiV0.3Mo', 'HfMo0.75NbTaTiZr', 'Al0.5CoCrCuFeNiV0.2', 'Al0.4Hf0.6NbTaTiZr', 'Al0.6CrCuFeNi2', 'Al0.3NbTa0.8Ti1.4V0.2Zr1.3', 'Al1.5CoCrFeNiTi', 'AlMoNbTiV', 'Al0.2CrCuFeNi2', 'Al0.5NbTa0.8Ti1.5V0.2Zr', 'Al1.125CuFe0.75NiTi1.125', 'NbTiV2Zr', 'Al0.38CoCrFeMnNi', 'Al2.8CoCrCuFeNi', 'Mo1.5NbTiVZr', 'Al0.3NbTaTi1.4Zr1.3', 'AlCr0.5NbTiV', 'Al3CoCrFeNi', 'NbTiV0.3Mo0.3', 'HfMoNbZrTi', 'HfNbTaZr', 'Mo0.3NbTiVZr', 'Mo1.7NbTiVZr', 'Al0.3CoCrCuFe', 'Al0.4CrCuFeNi2', 'Al0.5CoCrCuFe', 'Al0.5MoNbTiV', 'Al0.5NbTaTiV', 'Al0.8CrCuFeNi2', 'Al0.75MoNbTiV', 'AlCoCrFeMo0.1Ni', 'AlCoCrFeNiSi0.4', 'AlCoCrFeNiSi0.6', 'CoCuFeNi', 'CoFeMnNi', 'MoNbTiVZr', 'Al2CoCrFeNiTi', 'Al0.5HfNbTaTiZr', 'AlCoCrFeNiTi', 'AlNbTaTiV', 'Al0.5CoCrCuFeNiV1.8', 'AlNbTiV', 'Al0.5CoCrCuFeNi', 'Al0.25CoCrFeNi', 'HfMoNbTaTiZr', 'HfNbTaTiZr', 'CoCrFeNi', 'CoCrCuFeNiTi0.5', 'MoNbTaVW', 'CoCrCuFeNi', 'Al2CoCrFeNi', 'NbTiVZr', 'CoFeNi', 'AlCoCrFeNi', 'CoFeNiSi0.25', 'AlCoCrFeNiTi0.5', 'Al1.5CoCrFeNi', 'Al1.25CoCrFeNi', 'Al0.375CoCrFeNi', 'CoCrFeMnNi', 'CoCuFeMnNiSn0.03']\n"
          ]
        }
      ],
      "source": [
        "supercell = (3,3,3)\n",
        "num_structures = 500\n",
        "bad_alloys = []\n",
        "struct_dir = '/content/drive/MyDrive/Senior Project - ML prediction of HEAs/Random Structures'\n",
        "relaxed_dir = '/content/drive/MyDrive/Senior Project - ML prediction of HEAs/Random Structures'\n",
        "\n",
        "for alloy in alloys:\n",
        "  try:\n",
        "\n",
        "    # get alloy string for file names\n",
        "    alloy_string = remove_decimals(alloy)\n",
        "\n",
        "    # use avg lattice parameters to do the random structure search for FCC and BCC\n",
        "    FCCwinner, FCCenergies = random_structure_search(alloy, 'FCC', 3.54, supercell, num_structures)\n",
        "    BCCwinner, BCCenergies = random_structure_search(alloy, 'BCC', 3, supercell, num_structures)\n",
        "\n",
        "    # use for prediction pre relax\n",
        "    FCCmin = min(FCCenergies)\n",
        "    BCCmin = min(BCCenergies)\n",
        "\n",
        "    # relax the winning structures and find the energy\n",
        "    FCCrelaxed, FCC_ground_energy = relax_lattice(FCCwinner,logfile_name=f'{alloy_string}_FCC.log')\n",
        "    BCCrelaxed, BCC_ground_energy = relax_lattice(BCCwinner,logfile_name=f'{alloy_string}_BCC.log')\n",
        "\n",
        "\n",
        "    '''\n",
        "    # save relaxed poscar files to drive\n",
        "    write(f'{relaxed_dir}/relaxed_{alloy_string}_FCC.vasp', FCCrelaxed, format='vasp')\n",
        "    write(f'{relaxed_dir}/relaxed_{alloy_string}_BCC.vasp', BCCrelaxed, format='vasp')\n",
        "\n",
        "    # save unrelaxed poscar files to drive\n",
        "    write(f'{struct_dir}/{alloy_string}_FCC.vasp', FCCwinner, format='vasp')\n",
        "    write(f'{struct_dir}/{alloy_string}_BCC.vasp', BCCwinner, format='vasp')\n",
        "    '''\n",
        "\n",
        "    # get logfile data to put in the row\n",
        "\n",
        "    with open (f'{alloy_string}_FCC.log','r') as f:\n",
        "        FCClog = f.readlines()\n",
        "\n",
        "    with open (f'{alloy_string}_BCC.log','r') as f:\n",
        "        BCClog = f.readlines()\n",
        "\n",
        "\n",
        "    # make row dictionary for concat\n",
        "    row_dict = {'alloy':alloy, 'FCClowest_before_relaxation': FCCmin, 'BCClowest_before_relaxation':BCCmin,\n",
        "            'FCClowest':FCC_ground_energy, 'BCClowest':BCC_ground_energy, 'FCCenergies':FCCenergies,\n",
        "            'BCCenergies':BCCenergies,'FCC logfile':FCClog, 'BCC logfile':BCClog}\n",
        "\n",
        "    row = pd.DataFrame([row_dict], index=[None])\n",
        "    monte = pd.concat([monte,row], ignore_index=True)\n",
        "\n",
        "  except:\n",
        "    bad_alloys.append(alloy)\n",
        "\n",
        "\n",
        "print(bad_alloys)"
      ]
    },
    {
      "cell_type": "code",
      "execution_count": null,
      "metadata": {
        "id": "EE_vrRaRhysn"
      },
      "outputs": [],
      "source": [
        "monte['prediction']= monte.apply((lambda x: 'FCC' if x['FCClowest']< x['BCClowest'] else 'BCC'), axis=1)\n",
        "monte['before_relax_prediction']= monte.apply((lambda x: 'FCC' if x['FCClowest_before_relaxation']< x['BCClowest_before_relaxation'] else 'BCC'), axis=1)"
      ]
    },
    {
      "cell_type": "code",
      "execution_count": null,
      "metadata": {
        "id": "gz7G57IigETl"
      },
      "outputs": [],
      "source": [
        "resultdf = pd.merge(monte, criteria, on='alloy')\n",
        "#resultdf.to_csv('/content/drive/MyDrive/Senior Project - ML prediction of HEAs/Random Structures/senior_exp_alloys.csv')\n"
      ]
    },
    {
      "cell_type": "code",
      "execution_count": null,
      "metadata": {
        "id": "_ezwTkIIUXDu"
      },
      "outputs": [],
      "source": [
        "resultdf[resultdf['prediction'] == resultdf['Experimental']].shape[0]/132"
      ]
    },
    {
      "cell_type": "code",
      "execution_count": null,
      "metadata": {
        "id": "wiDljsfw6tLQ"
      },
      "outputs": [],
      "source": [
        "resultdf[resultdf['before_relax_prediction'] == resultdf['Experimental']].shape[0]/132"
      ]
    },
    {
      "cell_type": "code",
      "execution_count": null,
      "metadata": {
        "id": "1KYI-c53r_uv"
      },
      "outputs": [],
      "source": [
        "resultdf.to_csv('montebackup.csv')"
      ]
    },
    {
      "cell_type": "markdown",
      "source": [
        "### New"
      ],
      "metadata": {
        "id": "F5UU2rSsdHAK"
      }
    },
    {
      "cell_type": "code",
      "source": [
        "supercell = (3,3,3)\n",
        "num_structures = 5\n",
        "bad_alloys = []\n",
        "struct_dir = '/content/drive/MyDrive/Senior Project - ML prediction of HEAs/Random Structures'\n",
        "relaxed_dir = '/content/drive/MyDrive/Senior Project - ML prediction of HEAs/Random Structures'\n",
        "\n",
        "pred = {}\n",
        "\n",
        "for alloy in alloys:\n",
        "  try:\n",
        "\n",
        "    FCC = RSS_all(alloy, 'FCC', 3.54, supercell, num_structures)\n",
        "\n",
        "    FCCenergies=list(FCC.keys())\n",
        "    Flow = min(FCC.keys())\n",
        "    Fhigh = max(FCC.keys())\n",
        "    Fmean= statistics.mean(FCC.keys())\n",
        "    Fmed = min(FCC, key=lambda x: abs(x - med))\n",
        "\n",
        "    BCC = RSS_all(alloy, 'FCC', 3.54, supercell, num_structures)\n",
        "\n",
        "    BCCenergies=list(BCC.keys())\n",
        "    Blow = min(BCC.keys())\n",
        "    Bhigh = max(BCC.keys())\n",
        "    Bmean= statistics.mean(BCC.keys())\n",
        "    Bmed = min(BCC, key=lambda x: abs(x - med))\n",
        "\n",
        "    res = 'FCC' if Flow < Blow else 'BCC'\n",
        "\n",
        "    pred[alloy] = res\n",
        "\n",
        "  except:\n",
        "    bad_alloys.append(alloy)\n",
        "\n",
        "resultdf = pd.DataFrame([pred]).T\n",
        "resultdf.columns = ['prediction']\n",
        "\n",
        "print(bad_alloys)"
      ],
      "metadata": {
        "colab": {
          "base_uri": "https://localhost:8080/"
        },
        "id": "Ui3snfGjdBnK",
        "outputId": "b53a5e99-08bd-4cd6-8885-b3bc5ccffa5b"
      },
      "execution_count": 52,
      "outputs": [
        {
          "output_type": "stream",
          "name": "stderr",
          "text": [
            "\rProcessing FCC Al0.25MoNbTiV:   0%|          | 0/5 [00:00<?, ?iteration/s]/usr/local/lib/python3.10/dist-packages/dgl/backend/pytorch/tensor.py:445: UserWarning: TypedStorage is deprecated. It will be removed in the future and UntypedStorage will be the only storage class. This should only matter to you if you are using storages directly.  To access UntypedStorage directly, use tensor.untyped_storage() instead of tensor.storage()\n",
            "  \n",
            "Processing FCC Al0.25MoNbTiV: 100%|██████████| 5/5 [00:01<00:00,  3.78iteration/s]\n",
            "Processing FCC Al0.25MoNbTiV: 100%|██████████| 5/5 [00:01<00:00,  3.88iteration/s]\n",
            "Processing FCC Al2CoCrFeMo0.5Ni: 100%|██████████| 5/5 [00:01<00:00,  3.83iteration/s]\n",
            "Processing FCC Al2CoCrFeMo0.5Ni: 100%|██████████| 5/5 [00:01<00:00,  4.17iteration/s]\n",
            "Processing FCC CoCrMnNi: 100%|██████████| 5/5 [00:01<00:00,  4.01iteration/s]\n",
            "Processing FCC CoCrMnNi: 100%|██████████| 5/5 [00:01<00:00,  4.16iteration/s]\n",
            "Processing FCC Al2.5CoCrFeNi: 100%|██████████| 5/5 [00:01<00:00,  4.25iteration/s]\n",
            "Processing FCC Al2.5CoCrFeNi: 100%|██████████| 5/5 [00:01<00:00,  4.13iteration/s]\n",
            "Processing FCC Al0.3CoCrCuFeNi: 100%|██████████| 5/5 [00:01<00:00,  4.10iteration/s]\n",
            "Processing FCC Al0.3CoCrCuFeNi: 100%|██████████| 5/5 [00:01<00:00,  4.13iteration/s]\n",
            "Processing FCC AlCoCrFeNb0.1Ni: 100%|██████████| 5/5 [00:01<00:00,  4.11iteration/s]\n",
            "Processing FCC AlCoCrFeNb0.1Ni: 100%|██████████| 5/5 [00:01<00:00,  3.80iteration/s]\n",
            "Processing FCC Al0.25CoCrCu0.75FeNiTi0.5: 100%|██████████| 5/5 [00:01<00:00,  3.91iteration/s]\n",
            "Processing FCC Al0.25CoCrCu0.75FeNiTi0.5: 100%|██████████| 5/5 [00:01<00:00,  4.04iteration/s]\n",
            "Processing FCC CoCrFeNiTi: 100%|██████████| 5/5 [00:01<00:00,  4.05iteration/s]\n",
            "Processing FCC CoCrFeNiTi: 100%|██████████| 5/5 [00:01<00:00,  4.16iteration/s]\n",
            "Processing FCC Al2.8CoCrCuFe: 100%|██████████| 5/5 [00:01<00:00,  4.14iteration/s]\n",
            "Processing FCC Al2.8CoCrCuFe: 100%|██████████| 5/5 [00:01<00:00,  4.24iteration/s]\n",
            "Processing FCC AlCoFeNi: 100%|██████████| 5/5 [00:01<00:00,  4.27iteration/s]\n",
            "Processing FCC AlCoFeNi: 100%|██████████| 5/5 [00:01<00:00,  4.17iteration/s]\n",
            "Processing FCC Al0.5CrFe1.5MnNi0.5: 100%|██████████| 5/5 [00:01<00:00,  4.13iteration/s]\n",
            "Processing FCC Al0.5CrFe1.5MnNi0.5: 100%|██████████| 5/5 [00:01<00:00,  3.79iteration/s]\n",
            "Processing FCC NbTiV0.3Mo0.7: 100%|██████████| 5/5 [00:01<00:00,  3.83iteration/s]\n",
            "Processing FCC NbTiV0.3Mo0.7: 100%|██████████| 5/5 [00:01<00:00,  3.99iteration/s]\n",
            "Processing FCC AlCrFeNi: 100%|██████████| 5/5 [00:01<00:00,  4.10iteration/s]\n",
            "Processing FCC AlCrFeNi: 100%|██████████| 5/5 [00:01<00:00,  4.09iteration/s]\n",
            "Processing FCC CoFeNiV: 100%|██████████| 5/5 [00:01<00:00,  4.06iteration/s]\n",
            "Processing FCC CoFeNiV: 100%|██████████| 5/5 [00:01<00:00,  4.09iteration/s]\n",
            "Processing FCC CoCuFeMnNi: 100%|██████████| 5/5 [00:01<00:00,  4.10iteration/s]\n",
            "Processing FCC CoCuFeMnNi: 100%|██████████| 5/5 [00:01<00:00,  4.11iteration/s]\n",
            "Processing FCC NbTiV0.3Mo1.3: 100%|██████████| 5/5 [00:01<00:00,  4.20iteration/s]\n",
            "Processing FCC NbTiV0.3Mo1.3: 100%|██████████| 5/5 [00:01<00:00,  3.85iteration/s]\n",
            "Processing FCC CrCuFeMoNi: 100%|██████████| 5/5 [00:01<00:00,  4.11iteration/s]\n",
            "Processing FCC CrCuFeMoNi: 100%|██████████| 5/5 [00:01<00:00,  3.80iteration/s]\n",
            "Processing FCC CoCrFeMnNiV0.25: 100%|██████████| 5/5 [00:01<00:00,  4.22iteration/s]\n",
            "Processing FCC CoCrFeMnNiV0.25: 100%|██████████| 5/5 [00:01<00:00,  4.19iteration/s]\n",
            "Processing FCC HfMo0.25NbTaTiZr: 100%|██████████| 5/5 [00:01<00:00,  3.86iteration/s]\n",
            "Processing FCC HfMo0.25NbTaTiZr: 100%|██████████| 5/5 [00:01<00:00,  3.90iteration/s]\n",
            "Processing FCC CoCrFeMnNiV0.5: 100%|██████████| 5/5 [00:01<00:00,  3.95iteration/s]\n",
            "Processing FCC CoCrFeMnNiV0.5: 100%|██████████| 5/5 [00:01<00:00,  4.34iteration/s]\n",
            "Processing FCC NbTiV0.3Mo0.5: 100%|██████████| 5/5 [00:01<00:00,  4.13iteration/s]\n",
            "Processing FCC NbTiV0.3Mo0.5: 100%|██████████| 5/5 [00:01<00:00,  3.91iteration/s]\n",
            "Processing FCC NbTiV0.3Zr: 100%|██████████| 5/5 [00:01<00:00,  4.10iteration/s]\n",
            "Processing FCC NbTiV0.3Zr: 100%|██████████| 5/5 [00:01<00:00,  3.82iteration/s]\n",
            "Processing FCC MoNbTiV0.25Zr: 100%|██████████| 5/5 [00:01<00:00,  4.11iteration/s]\n",
            "Processing FCC MoNbTiV0.25Zr: 100%|██████████| 5/5 [00:01<00:00,  4.20iteration/s]\n",
            "Processing FCC CoCrCu0.5FeNi: 100%|██████████| 5/5 [00:01<00:00,  4.31iteration/s]\n",
            "Processing FCC CoCrCu0.5FeNi: 100%|██████████| 5/5 [00:01<00:00,  4.14iteration/s]\n",
            "Processing FCC FeMnNi: 100%|██████████| 5/5 [00:01<00:00,  4.00iteration/s]\n",
            "Processing FCC FeMnNi: 100%|██████████| 5/5 [00:01<00:00,  4.07iteration/s]\n",
            "Processing FCC Al3CoCrCuFeNi: 100%|██████████| 5/5 [00:01<00:00,  4.26iteration/s]\n",
            "Processing FCC Al3CoCrCuFeNi: 100%|██████████| 5/5 [00:01<00:00,  4.26iteration/s]\n",
            "Processing FCC CoCrCuFeNiTi: 100%|██████████| 5/5 [00:01<00:00,  3.82iteration/s]\n",
            "Processing FCC CoCrCuFeNiTi: 100%|██████████| 5/5 [00:01<00:00,  3.79iteration/s]\n",
            "Processing FCC MoNbTaW: 100%|██████████| 5/5 [00:01<00:00,  4.06iteration/s]\n",
            "Processing FCC MoNbTaW: 100%|██████████| 5/5 [00:01<00:00,  4.15iteration/s]\n",
            "Processing FCC MoNbTiZr: 100%|██████████| 5/5 [00:01<00:00,  4.02iteration/s]\n",
            "Processing FCC MoNbTiZr: 100%|██████████| 5/5 [00:01<00:00,  4.18iteration/s]\n",
            "Processing FCC Al1.25CoCrFeMnNi: 100%|██████████| 5/5 [00:01<00:00,  4.17iteration/s]\n",
            "Processing FCC Al1.25CoCrFeMnNi: 100%|██████████| 5/5 [00:01<00:00,  4.08iteration/s]\n",
            "Processing FCC Al0.75HfNbTaTiZr: 100%|██████████| 5/5 [00:01<00:00,  4.05iteration/s]\n",
            "Processing FCC Al0.75HfNbTaTiZr: 100%|██████████| 5/5 [00:01<00:00,  4.02iteration/s]\n",
            "Processing FCC Al0.25CoFeNi: 100%|██████████| 5/5 [00:01<00:00,  3.95iteration/s]\n",
            "Processing FCC Al0.25CoFeNi: 100%|██████████| 5/5 [00:01<00:00,  3.84iteration/s]\n",
            "Processing FCC AlCrFeNiMo0.2: 100%|██████████| 5/5 [00:01<00:00,  3.92iteration/s]\n",
            "Processing FCC AlCrFeNiMo0.2: 100%|██████████| 5/5 [00:01<00:00,  4.11iteration/s]\n",
            "Processing FCC Mo0.5NbTiVZr: 100%|██████████| 5/5 [00:01<00:00,  4.11iteration/s]\n",
            "Processing FCC Mo0.5NbTiVZr: 100%|██████████| 5/5 [00:01<00:00,  4.18iteration/s]\n",
            "Processing FCC CoMnNi: 100%|██████████| 5/5 [00:01<00:00,  4.14iteration/s]\n",
            "Processing FCC CoMnNi: 100%|██████████| 5/5 [00:01<00:00,  4.03iteration/s]\n",
            "Processing FCC AlCoFeNiTiVZr: 100%|██████████| 5/5 [00:01<00:00,  4.15iteration/s]\n",
            "Processing FCC AlCoFeNiTiVZr: 100%|██████████| 5/5 [00:01<00:00,  4.10iteration/s]\n",
            "Processing FCC CoCrCuFe: 100%|██████████| 5/5 [00:01<00:00,  3.98iteration/s]\n",
            "Processing FCC CoCrCuFe: 100%|██████████| 5/5 [00:01<00:00,  3.78iteration/s]\n",
            "Processing FCC AlMo0.5NbTa0.5TiZr: 100%|██████████| 5/5 [00:01<00:00,  3.84iteration/s]\n",
            "Processing FCC AlMo0.5NbTa0.5TiZr: 100%|██████████| 5/5 [00:01<00:00,  3.95iteration/s]\n",
            "Processing FCC CoCrNi: 100%|██████████| 5/5 [00:01<00:00,  4.18iteration/s]\n",
            "Processing FCC CoCrNi: 100%|██████████| 5/5 [00:01<00:00,  4.28iteration/s]\n",
            "Processing FCC Co1.5CrFeNi1.5Ti0.5: 100%|██████████| 5/5 [00:01<00:00,  4.19iteration/s]\n",
            "Processing FCC Co1.5CrFeNi1.5Ti0.5: 100%|██████████| 5/5 [00:01<00:00,  4.14iteration/s]\n",
            "Processing FCC MoNbTiV1.5Zr: 100%|██████████| 5/5 [00:01<00:00,  4.13iteration/s]\n",
            "Processing FCC MoNbTiV1.5Zr: 100%|██████████| 5/5 [00:01<00:00,  4.23iteration/s]\n",
            "Processing FCC NbTaTiV: 100%|██████████| 5/5 [00:01<00:00,  4.26iteration/s]\n",
            "Processing FCC NbTaTiV: 100%|██████████| 5/5 [00:01<00:00,  3.92iteration/s]\n",
            "Processing FCC Al0.25NbTaTiV: 100%|██████████| 5/5 [00:01<00:00,  3.88iteration/s]\n",
            "Processing FCC Al0.25NbTaTiV: 100%|██████████| 5/5 [00:01<00:00,  3.78iteration/s]\n",
            "Processing FCC Al0.875CoCrFeNi: 100%|██████████| 5/5 [00:01<00:00,  4.16iteration/s]\n",
            "Processing FCC Al0.875CoCrFeNi: 100%|██████████| 5/5 [00:01<00:00,  3.97iteration/s]\n",
            "Processing FCC Al0.2Co1.5CrFeNi1.5Ti0.5: 100%|██████████| 5/5 [00:01<00:00,  4.31iteration/s]\n",
            "Processing FCC Al0.2Co1.5CrFeNi1.5Ti0.5: 100%|██████████| 5/5 [00:01<00:00,  4.23iteration/s]\n",
            "Processing FCC Al0.5CoCrCuFeNiV1.6: 100%|██████████| 5/5 [00:01<00:00,  4.03iteration/s]\n",
            "Processing FCC Al0.5CoCrCuFeNiV1.6: 100%|██████████| 5/5 [00:01<00:00,  4.20iteration/s]\n",
            "Processing FCC MoNbTaV: 100%|██████████| 5/5 [00:01<00:00,  4.09iteration/s]\n",
            "Processing FCC MoNbTaV: 100%|██████████| 5/5 [00:01<00:00,  4.05iteration/s]\n",
            "Processing FCC HfNbTiZr: 100%|██████████| 5/5 [00:01<00:00,  3.85iteration/s]\n",
            "Processing FCC HfNbTiZr: 100%|██████████| 5/5 [00:01<00:00,  3.79iteration/s]\n",
            "Processing FCC Al0.3HfNbTaTiZr: 100%|██████████| 5/5 [00:01<00:00,  4.14iteration/s]\n",
            "Processing FCC Al0.3HfNbTaTiZr: 100%|██████████| 5/5 [00:01<00:00,  4.09iteration/s]\n",
            "Processing FCC AlCoCrCuNiTi: 100%|██████████| 5/5 [00:01<00:00,  4.15iteration/s]\n",
            "Processing FCC AlCoCrCuNiTi: 100%|██████████| 5/5 [00:01<00:00,  4.16iteration/s]\n",
            "Processing FCC CoCuFeNiSn0.02: 100%|██████████| 5/5 [00:01<00:00,  4.17iteration/s]\n",
            "Processing FCC CoCuFeNiSn0.02: 100%|██████████| 5/5 [00:01<00:00,  4.14iteration/s]\n",
            "Processing FCC Al0.5CoCrCuFeNiTi0.4: 100%|██████████| 5/5 [00:01<00:00,  4.16iteration/s]\n",
            "Processing FCC Al0.5CoCrCuFeNiTi0.4: 100%|██████████| 5/5 [00:01<00:00,  4.13iteration/s]\n",
            "Processing FCC NbTiV0.3Mo1.5: 100%|██████████| 5/5 [00:01<00:00,  3.91iteration/s]\n",
            "Processing FCC NbTiV0.3Mo1.5: 100%|██████████| 5/5 [00:01<00:00,  3.93iteration/s]\n",
            "Processing FCC AlCrFeNiMo0.5: 100%|██████████| 5/5 [00:01<00:00,  3.93iteration/s]\n",
            "Processing FCC AlCrFeNiMo0.5: 100%|██████████| 5/5 [00:01<00:00,  4.09iteration/s]\n",
            "Processing FCC Al0.5CoCrCuFeNiTi0.2: 100%|██████████| 5/5 [00:01<00:00,  4.17iteration/s]\n",
            "Processing FCC Al0.5CoCrCuFeNiTi0.2: 100%|██████████| 5/5 [00:01<00:00,  4.26iteration/s]\n",
            "Processing FCC Al0.25CoCrCu0.5FeNiTi0.5: 100%|██████████| 5/5 [00:01<00:00,  4.31iteration/s]\n",
            "Processing FCC Al0.25CoCrCu0.5FeNiTi0.5: 100%|██████████| 5/5 [00:01<00:00,  3.95iteration/s]\n",
            "Processing FCC Al0.8CoCrCuFeNi: 100%|██████████| 5/5 [00:01<00:00,  4.15iteration/s]\n",
            "Processing FCC Al0.8CoCrCuFeNi: 100%|██████████| 5/5 [00:01<00:00,  4.19iteration/s]\n",
            "Processing FCC Mo1.3NbTiVZr: 100%|██████████| 5/5 [00:01<00:00,  4.02iteration/s]\n",
            "Processing FCC Mo1.3NbTiVZr: 100%|██████████| 5/5 [00:01<00:00,  3.93iteration/s]\n",
            "Processing FCC HfMoTaTiZr: 100%|██████████| 5/5 [00:01<00:00,  3.80iteration/s]\n",
            "Processing FCC HfMoTaTiZr: 100%|██████████| 5/5 [00:01<00:00,  4.15iteration/s]\n",
            "Processing FCC AlCoCrFeNiSi: 100%|██████████| 5/5 [00:01<00:00,  4.17iteration/s]\n",
            "Processing FCC AlCoCrFeNiSi: 100%|██████████| 5/5 [00:01<00:00,  4.07iteration/s]\n",
            "Processing FCC Al0.5CoCrCuFeNiV1.4: 100%|██████████| 5/5 [00:01<00:00,  4.16iteration/s]\n",
            "Processing FCC Al0.5CoCrCuFeNiV1.4: 100%|██████████| 5/5 [00:01<00:00,  4.10iteration/s]\n",
            "Processing FCC AlCoCrFeNiSi0.2: 100%|██████████| 5/5 [00:01<00:00,  4.04iteration/s]\n",
            "Processing FCC AlCoCrFeNiSi0.2: 100%|██████████| 5/5 [00:01<00:00,  4.20iteration/s]\n",
            "Processing FCC AlCuNiTi: 100%|██████████| 5/5 [00:01<00:00,  4.16iteration/s]\n",
            "Processing FCC AlCuNiTi: 100%|██████████| 5/5 [00:01<00:00,  3.95iteration/s]\n",
            "Processing FCC AlNb1.5Ta0.5Ti1.5Zr0.5: 100%|██████████| 5/5 [00:01<00:00,  3.92iteration/s]\n",
            "Processing FCC AlNb1.5Ta0.5Ti1.5Zr0.5: 100%|██████████| 5/5 [00:01<00:00,  4.03iteration/s]\n",
            "Processing FCC MoNbTiV0.75Zr: 100%|██████████| 5/5 [00:01<00:00,  4.18iteration/s]\n",
            "Processing FCC MoNbTiV0.75Zr: 100%|██████████| 5/5 [00:01<00:00,  3.99iteration/s]\n",
            "Processing FCC NbTaVW: 100%|██████████| 5/5 [00:01<00:00,  4.13iteration/s]\n",
            "Processing FCC NbTaVW: 100%|██████████| 5/5 [00:01<00:00,  4.25iteration/s]\n",
            "Processing FCC Al0.5CoCrCuFeNiV1.2: 100%|██████████| 5/5 [00:01<00:00,  4.06iteration/s]\n",
            "Processing FCC Al0.5CoCrCuFeNiV1.2: 100%|██████████| 5/5 [00:01<00:00,  4.33iteration/s]\n",
            "Processing FCC HfMo0.5NbTaTiZr: 100%|██████████| 5/5 [00:01<00:00,  4.16iteration/s]\n",
            "Processing FCC HfMo0.5NbTaTiZr: 100%|██████████| 5/5 [00:01<00:00,  4.21iteration/s]\n",
            "Processing FCC Mo0.7NbTiVZr: 100%|██████████| 5/5 [00:01<00:00,  3.86iteration/s]\n",
            "Processing FCC Mo0.7NbTiVZr: 100%|██████████| 5/5 [00:01<00:00,  3.84iteration/s]\n",
            "Processing FCC MoNbTiV: 100%|██████████| 5/5 [00:01<00:00,  4.09iteration/s]\n",
            "Processing FCC MoNbTiV: 100%|██████████| 5/5 [00:01<00:00,  4.22iteration/s]\n",
            "Processing FCC Mo2NbTiVZr: 100%|██████████| 5/5 [00:01<00:00,  4.18iteration/s]\n",
            "Processing FCC Mo2NbTiVZr: 100%|██████████| 5/5 [00:01<00:00,  4.15iteration/s]\n",
            "Processing FCC NbTiV0.3Mo: 100%|██████████| 5/5 [00:01<00:00,  4.06iteration/s]\n",
            "Processing FCC NbTiV0.3Mo: 100%|██████████| 5/5 [00:01<00:00,  4.07iteration/s]\n",
            "Processing FCC HfMo0.75NbTaTiZr: 100%|██████████| 5/5 [00:01<00:00,  4.03iteration/s]\n",
            "Processing FCC HfMo0.75NbTaTiZr: 100%|██████████| 5/5 [00:01<00:00,  4.18iteration/s]\n",
            "Processing FCC Al0.5CoCrCuFeNiV0.2: 100%|██████████| 5/5 [00:01<00:00,  4.11iteration/s]\n",
            "Processing FCC Al0.5CoCrCuFeNiV0.2: 100%|██████████| 5/5 [00:01<00:00,  3.85iteration/s]\n",
            "Processing FCC Al0.4Hf0.6NbTaTiZr: 100%|██████████| 5/5 [00:01<00:00,  3.84iteration/s]\n",
            "Processing FCC Al0.4Hf0.6NbTaTiZr: 100%|██████████| 5/5 [00:01<00:00,  4.02iteration/s]\n",
            "Processing FCC Al0.6CrCuFeNi2: 100%|██████████| 5/5 [00:01<00:00,  4.08iteration/s]\n",
            "Processing FCC Al0.6CrCuFeNi2: 100%|██████████| 5/5 [00:01<00:00,  4.14iteration/s]\n",
            "Processing FCC Al0.3NbTa0.8Ti1.4V0.2Zr1.3: 100%|██████████| 5/5 [00:01<00:00,  4.11iteration/s]\n",
            "Processing FCC Al0.3NbTa0.8Ti1.4V0.2Zr1.3: 100%|██████████| 5/5 [00:01<00:00,  4.12iteration/s]\n",
            "Processing FCC Al1.5CoCrFeNiTi: 100%|██████████| 5/5 [00:01<00:00,  4.32iteration/s]\n",
            "Processing FCC Al1.5CoCrFeNiTi: 100%|██████████| 5/5 [00:01<00:00,  4.21iteration/s]\n",
            "Processing FCC AlMoNbTiV: 100%|██████████| 5/5 [00:01<00:00,  4.15iteration/s]\n",
            "Processing FCC AlMoNbTiV: 100%|██████████| 5/5 [00:01<00:00,  3.92iteration/s]\n",
            "Processing FCC Al0.2CrCuFeNi2: 100%|██████████| 5/5 [00:01<00:00,  3.99iteration/s]\n",
            "Processing FCC Al0.2CrCuFeNi2: 100%|██████████| 5/5 [00:01<00:00,  3.98iteration/s]\n",
            "Processing FCC Al0.5NbTa0.8Ti1.5V0.2Zr: 100%|██████████| 5/5 [00:01<00:00,  4.19iteration/s]\n",
            "Processing FCC Al0.5NbTa0.8Ti1.5V0.2Zr: 100%|██████████| 5/5 [00:01<00:00,  4.15iteration/s]\n",
            "Processing FCC Al1.125CuFe0.75NiTi1.125: 100%|██████████| 5/5 [00:01<00:00,  4.11iteration/s]\n",
            "Processing FCC Al1.125CuFe0.75NiTi1.125: 100%|██████████| 5/5 [00:01<00:00,  4.28iteration/s]\n",
            "Processing FCC NbTiV2Zr: 100%|██████████| 5/5 [00:01<00:00,  4.14iteration/s]\n",
            "Processing FCC NbTiV2Zr: 100%|██████████| 5/5 [00:01<00:00,  4.18iteration/s]\n",
            "Processing FCC Al0.38CoCrFeMnNi: 100%|██████████| 5/5 [00:01<00:00,  4.13iteration/s]\n",
            "Processing FCC Al0.38CoCrFeMnNi: 100%|██████████| 5/5 [00:01<00:00,  3.97iteration/s]\n",
            "Processing FCC Al2.8CoCrCuFeNi: 100%|██████████| 5/5 [00:01<00:00,  3.85iteration/s]\n",
            "Processing FCC Al2.8CoCrCuFeNi: 100%|██████████| 5/5 [00:01<00:00,  3.70iteration/s]\n",
            "Processing FCC Mo1.5NbTiVZr: 100%|██████████| 5/5 [00:01<00:00,  3.99iteration/s]\n",
            "Processing FCC Mo1.5NbTiVZr: 100%|██████████| 5/5 [00:01<00:00,  4.19iteration/s]\n",
            "Processing FCC Al0.3NbTaTi1.4Zr1.3: 100%|██████████| 5/5 [00:01<00:00,  4.21iteration/s]\n",
            "Processing FCC Al0.3NbTaTi1.4Zr1.3: 100%|██████████| 5/5 [00:01<00:00,  4.18iteration/s]\n",
            "Processing FCC AlCr0.5NbTiV: 100%|██████████| 5/5 [00:01<00:00,  4.03iteration/s]\n",
            "Processing FCC AlCr0.5NbTiV: 100%|██████████| 5/5 [00:01<00:00,  4.17iteration/s]\n",
            "Processing FCC Al3CoCrFeNi: 100%|██████████| 5/5 [00:01<00:00,  4.11iteration/s]\n",
            "Processing FCC Al3CoCrFeNi: 100%|██████████| 5/5 [00:01<00:00,  4.18iteration/s]\n",
            "Processing FCC NbTiV0.3Mo0.3: 100%|██████████| 5/5 [00:01<00:00,  3.95iteration/s]\n",
            "Processing FCC NbTiV0.3Mo0.3: 100%|██████████| 5/5 [00:01<00:00,  3.72iteration/s]\n",
            "Processing FCC HfMoNbZrTi: 100%|██████████| 5/5 [00:01<00:00,  3.76iteration/s]\n",
            "Processing FCC HfMoNbZrTi: 100%|██████████| 5/5 [00:01<00:00,  3.82iteration/s]\n",
            "Processing FCC HfNbTaZr: 100%|██████████| 5/5 [00:01<00:00,  4.20iteration/s]\n",
            "Processing FCC HfNbTaZr: 100%|██████████| 5/5 [00:01<00:00,  4.22iteration/s]\n",
            "Processing FCC Mo0.3NbTiVZr: 100%|██████████| 5/5 [00:01<00:00,  4.17iteration/s]\n",
            "Processing FCC Mo0.3NbTiVZr: 100%|██████████| 5/5 [00:01<00:00,  4.24iteration/s]\n",
            "Processing FCC Mo1.7NbTiVZr: 100%|██████████| 5/5 [00:01<00:00,  4.16iteration/s]\n",
            "Processing FCC Mo1.7NbTiVZr: 100%|██████████| 5/5 [00:01<00:00,  4.16iteration/s]\n",
            "Processing FCC Al0.3CoCrCuFe: 100%|██████████| 5/5 [00:01<00:00,  3.81iteration/s]\n",
            "Processing FCC Al0.3CoCrCuFe: 100%|██████████| 5/5 [00:01<00:00,  3.84iteration/s]\n",
            "Processing FCC Al0.4CrCuFeNi2: 100%|██████████| 5/5 [00:01<00:00,  3.82iteration/s]\n",
            "Processing FCC Al0.4CrCuFeNi2: 100%|██████████| 5/5 [00:01<00:00,  4.27iteration/s]\n",
            "Processing FCC Al0.5CoCrCuFe: 100%|██████████| 5/5 [00:01<00:00,  4.18iteration/s]\n",
            "Processing FCC Al0.5CoCrCuFe: 100%|██████████| 5/5 [00:01<00:00,  4.24iteration/s]\n",
            "Processing FCC Al0.5MoNbTiV: 100%|██████████| 5/5 [00:01<00:00,  4.17iteration/s]\n",
            "Processing FCC Al0.5MoNbTiV: 100%|██████████| 5/5 [00:01<00:00,  4.23iteration/s]\n",
            "Processing FCC Al0.5NbTaTiV: 100%|██████████| 5/5 [00:01<00:00,  4.32iteration/s]\n",
            "Processing FCC Al0.5NbTaTiV: 100%|██████████| 5/5 [00:01<00:00,  4.26iteration/s]\n",
            "Processing FCC Al0.8CrCuFeNi2: 100%|██████████| 5/5 [00:01<00:00,  4.15iteration/s]\n",
            "Processing FCC Al0.8CrCuFeNi2: 100%|██████████| 5/5 [00:01<00:00,  3.79iteration/s]\n",
            "Processing FCC Al0.75MoNbTiV: 100%|██████████| 5/5 [00:01<00:00,  3.86iteration/s]\n",
            "Processing FCC Al0.75MoNbTiV: 100%|██████████| 5/5 [00:01<00:00,  4.03iteration/s]\n",
            "Processing FCC AlCoCrFeMo0.1Ni: 100%|██████████| 5/5 [00:01<00:00,  4.11iteration/s]\n",
            "Processing FCC AlCoCrFeMo0.1Ni: 100%|██████████| 5/5 [00:01<00:00,  4.07iteration/s]\n",
            "Processing FCC AlCoCrFeNiSi0.4: 100%|██████████| 5/5 [00:01<00:00,  4.18iteration/s]\n",
            "Processing FCC AlCoCrFeNiSi0.4: 100%|██████████| 5/5 [00:01<00:00,  4.09iteration/s]\n",
            "Processing FCC AlCoCrFeNiSi0.6: 100%|██████████| 5/5 [00:01<00:00,  4.14iteration/s]\n",
            "Processing FCC AlCoCrFeNiSi0.6: 100%|██████████| 5/5 [00:01<00:00,  4.14iteration/s]\n",
            "Processing FCC CoCuFeNi: 100%|██████████| 5/5 [00:01<00:00,  4.19iteration/s]\n",
            "Processing FCC CoCuFeNi: 100%|██████████| 5/5 [00:01<00:00,  4.18iteration/s]\n",
            "Processing FCC CoFeMnNi: 100%|██████████| 5/5 [00:01<00:00,  3.85iteration/s]\n",
            "Processing FCC CoFeMnNi: 100%|██████████| 5/5 [00:01<00:00,  3.77iteration/s]\n",
            "Processing FCC MoNbTiVZr: 100%|██████████| 5/5 [00:01<00:00,  4.01iteration/s]\n",
            "Processing FCC MoNbTiVZr: 100%|██████████| 5/5 [00:01<00:00,  4.16iteration/s]\n",
            "Processing FCC Al2CoCrFeNiTi: 100%|██████████| 5/5 [00:01<00:00,  4.17iteration/s]\n",
            "Processing FCC Al2CoCrFeNiTi: 100%|██████████| 5/5 [00:01<00:00,  4.25iteration/s]\n",
            "Processing FCC Al0.5HfNbTaTiZr: 100%|██████████| 5/5 [00:01<00:00,  4.09iteration/s]\n",
            "Processing FCC Al0.5HfNbTaTiZr: 100%|██████████| 5/5 [00:01<00:00,  4.09iteration/s]\n",
            "Processing FCC AlCoCrFeNiTi: 100%|██████████| 5/5 [00:01<00:00,  4.21iteration/s]\n",
            "Processing FCC AlCoCrFeNiTi: 100%|██████████| 5/5 [00:01<00:00,  3.96iteration/s]\n",
            "Processing FCC AlNbTaTiV: 100%|██████████| 5/5 [00:01<00:00,  3.80iteration/s]\n",
            "Processing FCC AlNbTaTiV: 100%|██████████| 5/5 [00:01<00:00,  3.87iteration/s]\n",
            "Processing FCC Al0.5CoCrCuFeNiV1.8: 100%|██████████| 5/5 [00:01<00:00,  4.06iteration/s]\n",
            "Processing FCC Al0.5CoCrCuFeNiV1.8: 100%|██████████| 5/5 [00:01<00:00,  4.07iteration/s]\n",
            "Processing FCC AlNbTiV: 100%|██████████| 5/5 [00:01<00:00,  4.15iteration/s]\n",
            "Processing FCC AlNbTiV: 100%|██████████| 5/5 [00:01<00:00,  4.08iteration/s]\n",
            "Processing FCC Al0.5CoCrCuFeNi: 100%|██████████| 5/5 [00:01<00:00,  4.21iteration/s]\n",
            "Processing FCC Al0.5CoCrCuFeNi: 100%|██████████| 5/5 [00:01<00:00,  4.10iteration/s]\n",
            "Processing FCC Al0.25CoCrFeNi: 100%|██████████| 5/5 [00:01<00:00,  4.06iteration/s]\n",
            "Processing FCC Al0.25CoCrFeNi: 100%|██████████| 5/5 [00:01<00:00,  4.15iteration/s]\n",
            "Processing FCC HfMoNbTaTiZr: 100%|██████████| 5/5 [00:01<00:00,  4.01iteration/s]\n",
            "Processing FCC HfMoNbTaTiZr: 100%|██████████| 5/5 [00:01<00:00,  3.98iteration/s]\n",
            "Processing FCC HfNbTaTiZr: 100%|██████████| 5/5 [00:01<00:00,  3.74iteration/s]\n",
            "Processing FCC HfNbTaTiZr: 100%|██████████| 5/5 [00:01<00:00,  4.10iteration/s]\n",
            "Processing FCC CoCrFeNi: 100%|██████████| 5/5 [00:01<00:00,  4.19iteration/s]\n",
            "Processing FCC CoCrFeNi: 100%|██████████| 5/5 [00:01<00:00,  4.16iteration/s]\n",
            "Processing FCC CoCrCuFeNiTi0.5: 100%|██████████| 5/5 [00:01<00:00,  4.07iteration/s]\n",
            "Processing FCC CoCrCuFeNiTi0.5: 100%|██████████| 5/5 [00:01<00:00,  4.31iteration/s]\n",
            "Processing FCC MoNbTaVW: 100%|██████████| 5/5 [00:01<00:00,  4.25iteration/s]\n",
            "Processing FCC MoNbTaVW: 100%|██████████| 5/5 [00:01<00:00,  4.27iteration/s]\n",
            "Processing FCC CoCrCuFeNi: 100%|██████████| 5/5 [00:01<00:00,  4.15iteration/s]\n",
            "Processing FCC CoCrCuFeNi: 100%|██████████| 5/5 [00:01<00:00,  3.90iteration/s]\n",
            "Processing FCC Al2CoCrFeNi: 100%|██████████| 5/5 [00:01<00:00,  4.04iteration/s]\n",
            "Processing FCC Al2CoCrFeNi: 100%|██████████| 5/5 [00:01<00:00,  3.96iteration/s]\n",
            "Processing FCC NbTiVZr: 100%|██████████| 5/5 [00:01<00:00,  4.08iteration/s]\n",
            "Processing FCC NbTiVZr: 100%|██████████| 5/5 [00:01<00:00,  4.25iteration/s]\n",
            "Processing FCC CoFeNi: 100%|██████████| 5/5 [00:01<00:00,  4.27iteration/s]\n",
            "Processing FCC CoFeNi: 100%|██████████| 5/5 [00:01<00:00,  4.16iteration/s]\n",
            "Processing FCC AlCoCrFeNi: 100%|██████████| 5/5 [00:01<00:00,  4.07iteration/s]\n",
            "Processing FCC AlCoCrFeNi: 100%|██████████| 5/5 [00:01<00:00,  4.06iteration/s]\n",
            "Processing FCC CoFeNiSi0.25: 100%|██████████| 5/5 [00:01<00:00,  4.21iteration/s]\n",
            "Processing FCC CoFeNiSi0.25: 100%|██████████| 5/5 [00:01<00:00,  4.06iteration/s]\n",
            "Processing FCC AlCoCrFeNiTi0.5: 100%|██████████| 5/5 [00:01<00:00,  3.99iteration/s]\n",
            "Processing FCC AlCoCrFeNiTi0.5: 100%|██████████| 5/5 [00:01<00:00,  3.85iteration/s]\n",
            "Processing FCC Al1.5CoCrFeNi: 100%|██████████| 5/5 [00:01<00:00,  4.30iteration/s]\n",
            "Processing FCC Al1.5CoCrFeNi: 100%|██████████| 5/5 [00:01<00:00,  4.24iteration/s]\n",
            "Processing FCC Al1.25CoCrFeNi: 100%|██████████| 5/5 [00:01<00:00,  4.28iteration/s]\n",
            "Processing FCC Al1.25CoCrFeNi: 100%|██████████| 5/5 [00:01<00:00,  4.19iteration/s]\n",
            "Processing FCC Al0.375CoCrFeNi: 100%|██████████| 5/5 [00:01<00:00,  4.19iteration/s]\n",
            "Processing FCC Al0.375CoCrFeNi: 100%|██████████| 5/5 [00:01<00:00,  4.18iteration/s]\n",
            "Processing FCC CoCrFeMnNi: 100%|██████████| 5/5 [00:01<00:00,  4.11iteration/s]\n",
            "Processing FCC CoCrFeMnNi: 100%|██████████| 5/5 [00:01<00:00,  4.18iteration/s]\n",
            "Processing FCC CoCuFeMnNiSn0.03: 100%|██████████| 5/5 [00:01<00:00,  4.08iteration/s]\n",
            "Processing FCC CoCuFeMnNiSn0.03: 100%|██████████| 5/5 [00:01<00:00,  4.04iteration/s]"
          ]
        },
        {
          "output_type": "stream",
          "name": "stdout",
          "text": [
            "[]\n"
          ]
        },
        {
          "output_type": "stream",
          "name": "stderr",
          "text": [
            "\n"
          ]
        }
      ]
    },
    {
      "cell_type": "code",
      "source": [
        "resultdf = pd.merge(resultdf, criteria, right_on='alloy', left_index=True)\n",
        "resultdf.head()"
      ],
      "metadata": {
        "colab": {
          "base_uri": "https://localhost:8080/",
          "height": 206
        },
        "id": "IbgAaSCkeK7z",
        "outputId": "d82df018-a6ce-4d92-9478-7c05d5a15cb8"
      },
      "execution_count": 53,
      "outputs": [
        {
          "output_type": "execute_result",
          "data": {
            "text/plain": [
              "  prediction             alloy Experimental  GNN LSS1       LSS2       LSS3   \\\n",
              "0        BCC     Al0.25MoNbTiV          BCC  BCC   BCC  Uncertain  Uncertain   \n",
              "1        FCC  Al2CoCrFeMo0.5Ni          BCC  BCC   BCC        BCC  Uncertain   \n",
              "2        BCC          CoCrMnNi          FCC  FCC   FCC        FCC  Uncertain   \n",
              "3        FCC     Al2.5CoCrFeNi          BCC  BCC   BCC        BCC  Uncertain   \n",
              "4        BCC   Al0.3CoCrCuFeNi          FCC  FCC   FCC        FCC  Uncertain   \n",
              "\n",
              "       LSS4       LSS5   \n",
              "0        BCC  Uncertain  \n",
              "1  Uncertain  Uncertain  \n",
              "2        FCC  Uncertain  \n",
              "3  Uncertain  Uncertain  \n",
              "4        FCC  Uncertain  "
            ],
            "text/html": [
              "\n",
              "  <div id=\"df-81718955-c18e-4382-b9d3-cfa82fbcd30b\" class=\"colab-df-container\">\n",
              "    <div>\n",
              "<style scoped>\n",
              "    .dataframe tbody tr th:only-of-type {\n",
              "        vertical-align: middle;\n",
              "    }\n",
              "\n",
              "    .dataframe tbody tr th {\n",
              "        vertical-align: top;\n",
              "    }\n",
              "\n",
              "    .dataframe thead th {\n",
              "        text-align: right;\n",
              "    }\n",
              "</style>\n",
              "<table border=\"1\" class=\"dataframe\">\n",
              "  <thead>\n",
              "    <tr style=\"text-align: right;\">\n",
              "      <th></th>\n",
              "      <th>prediction</th>\n",
              "      <th>alloy</th>\n",
              "      <th>Experimental</th>\n",
              "      <th>GNN</th>\n",
              "      <th>LSS1</th>\n",
              "      <th>LSS2</th>\n",
              "      <th>LSS3</th>\n",
              "      <th>LSS4</th>\n",
              "      <th>LSS5</th>\n",
              "    </tr>\n",
              "  </thead>\n",
              "  <tbody>\n",
              "    <tr>\n",
              "      <th>0</th>\n",
              "      <td>BCC</td>\n",
              "      <td>Al0.25MoNbTiV</td>\n",
              "      <td>BCC</td>\n",
              "      <td>BCC</td>\n",
              "      <td>BCC</td>\n",
              "      <td>Uncertain</td>\n",
              "      <td>Uncertain</td>\n",
              "      <td>BCC</td>\n",
              "      <td>Uncertain</td>\n",
              "    </tr>\n",
              "    <tr>\n",
              "      <th>1</th>\n",
              "      <td>FCC</td>\n",
              "      <td>Al2CoCrFeMo0.5Ni</td>\n",
              "      <td>BCC</td>\n",
              "      <td>BCC</td>\n",
              "      <td>BCC</td>\n",
              "      <td>BCC</td>\n",
              "      <td>Uncertain</td>\n",
              "      <td>Uncertain</td>\n",
              "      <td>Uncertain</td>\n",
              "    </tr>\n",
              "    <tr>\n",
              "      <th>2</th>\n",
              "      <td>BCC</td>\n",
              "      <td>CoCrMnNi</td>\n",
              "      <td>FCC</td>\n",
              "      <td>FCC</td>\n",
              "      <td>FCC</td>\n",
              "      <td>FCC</td>\n",
              "      <td>Uncertain</td>\n",
              "      <td>FCC</td>\n",
              "      <td>Uncertain</td>\n",
              "    </tr>\n",
              "    <tr>\n",
              "      <th>3</th>\n",
              "      <td>FCC</td>\n",
              "      <td>Al2.5CoCrFeNi</td>\n",
              "      <td>BCC</td>\n",
              "      <td>BCC</td>\n",
              "      <td>BCC</td>\n",
              "      <td>BCC</td>\n",
              "      <td>Uncertain</td>\n",
              "      <td>Uncertain</td>\n",
              "      <td>Uncertain</td>\n",
              "    </tr>\n",
              "    <tr>\n",
              "      <th>4</th>\n",
              "      <td>BCC</td>\n",
              "      <td>Al0.3CoCrCuFeNi</td>\n",
              "      <td>FCC</td>\n",
              "      <td>FCC</td>\n",
              "      <td>FCC</td>\n",
              "      <td>FCC</td>\n",
              "      <td>Uncertain</td>\n",
              "      <td>FCC</td>\n",
              "      <td>Uncertain</td>\n",
              "    </tr>\n",
              "  </tbody>\n",
              "</table>\n",
              "</div>\n",
              "    <div class=\"colab-df-buttons\">\n",
              "\n",
              "  <div class=\"colab-df-container\">\n",
              "    <button class=\"colab-df-convert\" onclick=\"convertToInteractive('df-81718955-c18e-4382-b9d3-cfa82fbcd30b')\"\n",
              "            title=\"Convert this dataframe to an interactive table.\"\n",
              "            style=\"display:none;\">\n",
              "\n",
              "  <svg xmlns=\"http://www.w3.org/2000/svg\" height=\"24px\" viewBox=\"0 -960 960 960\">\n",
              "    <path d=\"M120-120v-720h720v720H120Zm60-500h600v-160H180v160Zm220 220h160v-160H400v160Zm0 220h160v-160H400v160ZM180-400h160v-160H180v160Zm440 0h160v-160H620v160ZM180-180h160v-160H180v160Zm440 0h160v-160H620v160Z\"/>\n",
              "  </svg>\n",
              "    </button>\n",
              "\n",
              "  <style>\n",
              "    .colab-df-container {\n",
              "      display:flex;\n",
              "      gap: 12px;\n",
              "    }\n",
              "\n",
              "    .colab-df-convert {\n",
              "      background-color: #E8F0FE;\n",
              "      border: none;\n",
              "      border-radius: 50%;\n",
              "      cursor: pointer;\n",
              "      display: none;\n",
              "      fill: #1967D2;\n",
              "      height: 32px;\n",
              "      padding: 0 0 0 0;\n",
              "      width: 32px;\n",
              "    }\n",
              "\n",
              "    .colab-df-convert:hover {\n",
              "      background-color: #E2EBFA;\n",
              "      box-shadow: 0px 1px 2px rgba(60, 64, 67, 0.3), 0px 1px 3px 1px rgba(60, 64, 67, 0.15);\n",
              "      fill: #174EA6;\n",
              "    }\n",
              "\n",
              "    .colab-df-buttons div {\n",
              "      margin-bottom: 4px;\n",
              "    }\n",
              "\n",
              "    [theme=dark] .colab-df-convert {\n",
              "      background-color: #3B4455;\n",
              "      fill: #D2E3FC;\n",
              "    }\n",
              "\n",
              "    [theme=dark] .colab-df-convert:hover {\n",
              "      background-color: #434B5C;\n",
              "      box-shadow: 0px 1px 3px 1px rgba(0, 0, 0, 0.15);\n",
              "      filter: drop-shadow(0px 1px 2px rgba(0, 0, 0, 0.3));\n",
              "      fill: #FFFFFF;\n",
              "    }\n",
              "  </style>\n",
              "\n",
              "    <script>\n",
              "      const buttonEl =\n",
              "        document.querySelector('#df-81718955-c18e-4382-b9d3-cfa82fbcd30b button.colab-df-convert');\n",
              "      buttonEl.style.display =\n",
              "        google.colab.kernel.accessAllowed ? 'block' : 'none';\n",
              "\n",
              "      async function convertToInteractive(key) {\n",
              "        const element = document.querySelector('#df-81718955-c18e-4382-b9d3-cfa82fbcd30b');\n",
              "        const dataTable =\n",
              "          await google.colab.kernel.invokeFunction('convertToInteractive',\n",
              "                                                    [key], {});\n",
              "        if (!dataTable) return;\n",
              "\n",
              "        const docLinkHtml = 'Like what you see? Visit the ' +\n",
              "          '<a target=\"_blank\" href=https://colab.research.google.com/notebooks/data_table.ipynb>data table notebook</a>'\n",
              "          + ' to learn more about interactive tables.';\n",
              "        element.innerHTML = '';\n",
              "        dataTable['output_type'] = 'display_data';\n",
              "        await google.colab.output.renderOutput(dataTable, element);\n",
              "        const docLink = document.createElement('div');\n",
              "        docLink.innerHTML = docLinkHtml;\n",
              "        element.appendChild(docLink);\n",
              "      }\n",
              "    </script>\n",
              "  </div>\n",
              "\n",
              "\n",
              "<div id=\"df-f5eb05e4-eecf-455f-898b-06b844bac388\">\n",
              "  <button class=\"colab-df-quickchart\" onclick=\"quickchart('df-f5eb05e4-eecf-455f-898b-06b844bac388')\"\n",
              "            title=\"Suggest charts\"\n",
              "            style=\"display:none;\">\n",
              "\n",
              "<svg xmlns=\"http://www.w3.org/2000/svg\" height=\"24px\"viewBox=\"0 0 24 24\"\n",
              "     width=\"24px\">\n",
              "    <g>\n",
              "        <path d=\"M19 3H5c-1.1 0-2 .9-2 2v14c0 1.1.9 2 2 2h14c1.1 0 2-.9 2-2V5c0-1.1-.9-2-2-2zM9 17H7v-7h2v7zm4 0h-2V7h2v10zm4 0h-2v-4h2v4z\"/>\n",
              "    </g>\n",
              "</svg>\n",
              "  </button>\n",
              "\n",
              "<style>\n",
              "  .colab-df-quickchart {\n",
              "      --bg-color: #E8F0FE;\n",
              "      --fill-color: #1967D2;\n",
              "      --hover-bg-color: #E2EBFA;\n",
              "      --hover-fill-color: #174EA6;\n",
              "      --disabled-fill-color: #AAA;\n",
              "      --disabled-bg-color: #DDD;\n",
              "  }\n",
              "\n",
              "  [theme=dark] .colab-df-quickchart {\n",
              "      --bg-color: #3B4455;\n",
              "      --fill-color: #D2E3FC;\n",
              "      --hover-bg-color: #434B5C;\n",
              "      --hover-fill-color: #FFFFFF;\n",
              "      --disabled-bg-color: #3B4455;\n",
              "      --disabled-fill-color: #666;\n",
              "  }\n",
              "\n",
              "  .colab-df-quickchart {\n",
              "    background-color: var(--bg-color);\n",
              "    border: none;\n",
              "    border-radius: 50%;\n",
              "    cursor: pointer;\n",
              "    display: none;\n",
              "    fill: var(--fill-color);\n",
              "    height: 32px;\n",
              "    padding: 0;\n",
              "    width: 32px;\n",
              "  }\n",
              "\n",
              "  .colab-df-quickchart:hover {\n",
              "    background-color: var(--hover-bg-color);\n",
              "    box-shadow: 0 1px 2px rgba(60, 64, 67, 0.3), 0 1px 3px 1px rgba(60, 64, 67, 0.15);\n",
              "    fill: var(--button-hover-fill-color);\n",
              "  }\n",
              "\n",
              "  .colab-df-quickchart-complete:disabled,\n",
              "  .colab-df-quickchart-complete:disabled:hover {\n",
              "    background-color: var(--disabled-bg-color);\n",
              "    fill: var(--disabled-fill-color);\n",
              "    box-shadow: none;\n",
              "  }\n",
              "\n",
              "  .colab-df-spinner {\n",
              "    border: 2px solid var(--fill-color);\n",
              "    border-color: transparent;\n",
              "    border-bottom-color: var(--fill-color);\n",
              "    animation:\n",
              "      spin 1s steps(1) infinite;\n",
              "  }\n",
              "\n",
              "  @keyframes spin {\n",
              "    0% {\n",
              "      border-color: transparent;\n",
              "      border-bottom-color: var(--fill-color);\n",
              "      border-left-color: var(--fill-color);\n",
              "    }\n",
              "    20% {\n",
              "      border-color: transparent;\n",
              "      border-left-color: var(--fill-color);\n",
              "      border-top-color: var(--fill-color);\n",
              "    }\n",
              "    30% {\n",
              "      border-color: transparent;\n",
              "      border-left-color: var(--fill-color);\n",
              "      border-top-color: var(--fill-color);\n",
              "      border-right-color: var(--fill-color);\n",
              "    }\n",
              "    40% {\n",
              "      border-color: transparent;\n",
              "      border-right-color: var(--fill-color);\n",
              "      border-top-color: var(--fill-color);\n",
              "    }\n",
              "    60% {\n",
              "      border-color: transparent;\n",
              "      border-right-color: var(--fill-color);\n",
              "    }\n",
              "    80% {\n",
              "      border-color: transparent;\n",
              "      border-right-color: var(--fill-color);\n",
              "      border-bottom-color: var(--fill-color);\n",
              "    }\n",
              "    90% {\n",
              "      border-color: transparent;\n",
              "      border-bottom-color: var(--fill-color);\n",
              "    }\n",
              "  }\n",
              "</style>\n",
              "\n",
              "  <script>\n",
              "    async function quickchart(key) {\n",
              "      const quickchartButtonEl =\n",
              "        document.querySelector('#' + key + ' button');\n",
              "      quickchartButtonEl.disabled = true;  // To prevent multiple clicks.\n",
              "      quickchartButtonEl.classList.add('colab-df-spinner');\n",
              "      try {\n",
              "        const charts = await google.colab.kernel.invokeFunction(\n",
              "            'suggestCharts', [key], {});\n",
              "      } catch (error) {\n",
              "        console.error('Error during call to suggestCharts:', error);\n",
              "      }\n",
              "      quickchartButtonEl.classList.remove('colab-df-spinner');\n",
              "      quickchartButtonEl.classList.add('colab-df-quickchart-complete');\n",
              "    }\n",
              "    (() => {\n",
              "      let quickchartButtonEl =\n",
              "        document.querySelector('#df-f5eb05e4-eecf-455f-898b-06b844bac388 button');\n",
              "      quickchartButtonEl.style.display =\n",
              "        google.colab.kernel.accessAllowed ? 'block' : 'none';\n",
              "    })();\n",
              "  </script>\n",
              "</div>\n",
              "\n",
              "    </div>\n",
              "  </div>\n"
            ],
            "application/vnd.google.colaboratory.intrinsic+json": {
              "type": "dataframe",
              "variable_name": "resultdf",
              "summary": "{\n  \"name\": \"resultdf\",\n  \"rows\": 132,\n  \"fields\": [\n    {\n      \"column\": \"prediction\",\n      \"properties\": {\n        \"dtype\": \"category\",\n        \"num_unique_values\": 2,\n        \"samples\": [\n          \"FCC\",\n          \"BCC\"\n        ],\n        \"semantic_type\": \"\",\n        \"description\": \"\"\n      }\n    },\n    {\n      \"column\": \"alloy\",\n      \"properties\": {\n        \"dtype\": \"string\",\n        \"num_unique_values\": 132,\n        \"samples\": [\n          \"Al0.8CoCrCuFeNi\",\n          \"Al0.38CoCrFeMnNi\"\n        ],\n        \"semantic_type\": \"\",\n        \"description\": \"\"\n      }\n    },\n    {\n      \"column\": \"Experimental\",\n      \"properties\": {\n        \"dtype\": \"category\",\n        \"num_unique_values\": 2,\n        \"samples\": [\n          \"FCC\",\n          \"BCC\"\n        ],\n        \"semantic_type\": \"\",\n        \"description\": \"\"\n      }\n    },\n    {\n      \"column\": \"GNN\",\n      \"properties\": {\n        \"dtype\": \"category\",\n        \"num_unique_values\": 2,\n        \"samples\": [\n          \"FCC\",\n          \"BCC\"\n        ],\n        \"semantic_type\": \"\",\n        \"description\": \"\"\n      }\n    },\n    {\n      \"column\": \"LSS1 \",\n      \"properties\": {\n        \"dtype\": \"category\",\n        \"num_unique_values\": 3,\n        \"samples\": [\n          \"BCC\",\n          \"FCC\"\n        ],\n        \"semantic_type\": \"\",\n        \"description\": \"\"\n      }\n    },\n    {\n      \"column\": \"LSS2 \",\n      \"properties\": {\n        \"dtype\": \"category\",\n        \"num_unique_values\": 3,\n        \"samples\": [\n          \"Uncertain\",\n          \"BCC\"\n        ],\n        \"semantic_type\": \"\",\n        \"description\": \"\"\n      }\n    },\n    {\n      \"column\": \"LSS3 \",\n      \"properties\": {\n        \"dtype\": \"category\",\n        \"num_unique_values\": 1,\n        \"samples\": [\n          \"Uncertain\"\n        ],\n        \"semantic_type\": \"\",\n        \"description\": \"\"\n      }\n    },\n    {\n      \"column\": \"LSS4 \",\n      \"properties\": {\n        \"dtype\": \"category\",\n        \"num_unique_values\": 3,\n        \"samples\": [\n          \"BCC\"\n        ],\n        \"semantic_type\": \"\",\n        \"description\": \"\"\n      }\n    },\n    {\n      \"column\": \"LSS5 \",\n      \"properties\": {\n        \"dtype\": \"category\",\n        \"num_unique_values\": 1,\n        \"samples\": [\n          \"Uncertain\"\n        ],\n        \"semantic_type\": \"\",\n        \"description\": \"\"\n      }\n    }\n  ]\n}"
            }
          },
          "metadata": {},
          "execution_count": 53
        }
      ]
    },
    {
      "cell_type": "code",
      "source": [
        "resultdf[resultdf['prediction'] == resultdf['Experimental']].shape[0]/132\n"
      ],
      "metadata": {
        "colab": {
          "base_uri": "https://localhost:8080/"
        },
        "id": "BF8AFRewdWkq",
        "outputId": "065b4d23-a9cd-4dd9-998c-df58a46ea0f1"
      },
      "execution_count": 54,
      "outputs": [
        {
          "output_type": "execute_result",
          "data": {
            "text/plain": [
              "0.4166666666666667"
            ]
          },
          "metadata": {},
          "execution_count": 54
        }
      ]
    },
    {
      "cell_type": "markdown",
      "metadata": {
        "id": "aAMc6CoUCI08"
      },
      "source": [
        "## Analysis"
      ]
    },
    {
      "cell_type": "code",
      "execution_count": null,
      "metadata": {
        "id": "qq2tNVE-iQ2E"
      },
      "outputs": [],
      "source": [
        "import pandas as pd\n",
        "import numpy as np\n",
        "import matplotlib.pyplot as plt\n",
        "import math\n",
        "import random\n",
        "from scipy.stats import norm\n",
        "import matplotlib.pyplot as plt\n",
        "from scipy.stats import ttest_ind\n",
        "from scipy.stats import ttest_1samp\n",
        "from scipy.stats import ttest_rel\n",
        "\n",
        "from google.colab import drive\n",
        "drive.mount('/content/drive')\n",
        "criteria = pd.read_csv('/content/drive/MyDrive/Senior Project - ML prediction of HEAs/FINAL datasets/phase_criteria.csv')\n",
        "criteria = criteria[~criteria['Experimental'].isna()]"
      ]
    },
    {
      "cell_type": "code",
      "execution_count": null,
      "metadata": {
        "id": "f3newQ10ihKp"
      },
      "outputs": [],
      "source": [
        "total=pd.read_csv('/content/drive/MyDrive/Senior Project - ML prediction of HEAs/Random Structures/batch_3.csv')\n",
        "total.info()"
      ]
    },
    {
      "cell_type": "code",
      "execution_count": null,
      "metadata": {
        "id": "BBkr2HVVil9U"
      },
      "outputs": [],
      "source": [
        "monteright = total['prediction'] == total['Experimental']\n",
        "before_relax = total['before_relax_prediction'] == total['Experimental']\n",
        "GNNright =  total['GNN']== total['Experimental']\n",
        "LSS1right = total['LSS1 ']== total['Experimental']"
      ]
    },
    {
      "cell_type": "code",
      "execution_count": null,
      "metadata": {
        "id": "NvW1JbKWh82H"
      },
      "outputs": [],
      "source": [
        "total[monteright].shape[0]"
      ]
    },
    {
      "cell_type": "code",
      "execution_count": null,
      "metadata": {
        "id": "mYcMRw06b6LL"
      },
      "outputs": [],
      "source": [
        "total[before_relax].shape[0]"
      ]
    },
    {
      "cell_type": "code",
      "execution_count": null,
      "metadata": {
        "id": "mjhskThDChWu"
      },
      "outputs": [],
      "source": [
        "total['energy difference'] = total['FCClowest']-total['BCClowest']\n",
        "total['energy difference'].mean()"
      ]
    },
    {
      "cell_type": "code",
      "execution_count": null,
      "metadata": {
        "id": "bkIKjU8acVQf"
      },
      "outputs": [],
      "source": [
        "old=pd.read_csv('/content/drive/MyDrive/Senior Project - ML prediction of HEAs/Random Structures/monte_and_relaxation.csv')"
      ]
    },
    {
      "cell_type": "code",
      "execution_count": null,
      "metadata": {
        "id": "DjCwOt65-pjm"
      },
      "outputs": [],
      "source": [
        "def result_from_list(row):\n",
        "\n",
        "  FCCenergies = eval(row['FCCenergies'])\n",
        "  BCCenergies = eval(row['BCCenergies'])\n",
        "\n",
        "  FCC = min(FCCenergies)\n",
        "  BCC = min(BCCenergies)\n",
        "\n",
        "  result = 'FCC' if FCC < BCC else 'BCC'\n",
        "\n",
        "  return result\n",
        "\n",
        "old['before_relax'] = old.apply(result_from_list, axis=1)"
      ]
    },
    {
      "cell_type": "code",
      "execution_count": null,
      "metadata": {
        "id": "bVd6nS-VqoqP"
      },
      "outputs": [],
      "source": [
        "old['before_relax'].head()"
      ]
    },
    {
      "cell_type": "code",
      "execution_count": null,
      "metadata": {
        "id": "EQ1EoZWQAoct"
      },
      "outputs": [],
      "source": [
        "unrelaxed_correct = old['before_relax']== old['Experimental']\n",
        "old[unrelaxed_correct].shape[0]"
      ]
    },
    {
      "cell_type": "code",
      "execution_count": null,
      "metadata": {
        "id": "EmOxtQScDzIy"
      },
      "outputs": [],
      "source": [
        "old[old['Experimental'] != old['before_relax']].head(2)"
      ]
    },
    {
      "cell_type": "code",
      "execution_count": null,
      "metadata": {
        "id": "IsGF_2L0j2pC"
      },
      "outputs": [],
      "source": [
        "old[~unrelaxed_correct]['Experimental'].value_counts()"
      ]
    },
    {
      "cell_type": "code",
      "execution_count": null,
      "metadata": {
        "id": "PkEHVEcC_7h5"
      },
      "outputs": [],
      "source": [
        "old['Experimental'].value_counts()"
      ]
    },
    {
      "cell_type": "code",
      "execution_count": null,
      "metadata": {
        "id": "w7ofci66eGZ-"
      },
      "outputs": [],
      "source": [
        "exp = old['Experimental'].value_counts()\n",
        "brel = old['before_relax'].value_counts()\n",
        "\n",
        "print(exp, brel)"
      ]
    },
    {
      "cell_type": "code",
      "execution_count": null,
      "metadata": {
        "id": "8auizzMEuybx"
      },
      "outputs": [],
      "source": [
        "diff = pd.merge(total[['alloy', 'Experimental','before_relax_prediction']], old[['alloy','before_relax']], on='alloy')"
      ]
    },
    {
      "cell_type": "code",
      "execution_count": null,
      "metadata": {
        "id": "9X5AjGKcwYc0"
      },
      "outputs": [],
      "source": [
        "oldright = diff['before_relax'] == diff['Experimental']\n",
        "newright = diff['before_relax_prediction'] == diff['Experimental']\n",
        "different = diff['before_relax_prediction'] != diff['before_relax']"
      ]
    },
    {
      "cell_type": "code",
      "execution_count": null,
      "metadata": {
        "id": "IJy62OXgvNjk"
      },
      "outputs": [],
      "source": [
        "diff[oldright & different].head()"
      ]
    },
    {
      "cell_type": "code",
      "execution_count": null,
      "metadata": {
        "id": "7EwN9idI2Dbm"
      },
      "outputs": [],
      "source": [
        "total[(~newright) &(total['FCC parameter']>4)].head()"
      ]
    },
    {
      "cell_type": "code",
      "execution_count": null,
      "metadata": {
        "id": "0Fc1N-g0ZS-f"
      },
      "outputs": [],
      "source": [
        "alloy = 'MoNbTaVW'\n",
        "\n",
        "\n",
        "oldFCC = eval(old.loc[old['alloy'] == alloy, 'FCCenergies'].iloc[0])\n",
        "oldBCC = eval(old.loc[old['alloy'] == alloy, 'BCCenergies'].iloc[0])\n",
        "\n",
        "newFCC = eval(total.loc[total['alloy'] == alloy, 'FCCenergies'].iloc[0])\n",
        "newBCC = eval(total.loc[total['alloy'] == alloy, 'BCCenergies'].iloc[0])\n",
        "\n",
        "\n",
        "distribution(oldFCC, 'old FCC', 'g')\n",
        "distribution(oldBCC, 'old BCC', 'b')\n",
        "\n",
        "\n",
        "distribution(newFCC, ' new FCC', 'r')\n",
        "distribution(newBCC, 'new BCC', 'y')\n",
        "\n",
        "\n",
        "Fa = total[total['alloy']==alloy]['FCC parameter'].iloc[0]\n",
        "Ba = total[total['alloy']==alloy]['BCC parameter'].iloc[0]\n",
        "\n",
        "print('Actual structure')\n",
        "print(total[total['alloy']==alloy]['Experimental'].iloc[0])\n",
        "print('-----------------')\n",
        "print('lattice parameters')\n",
        "print(f'FCC: 3.54, {Fa}')\n",
        "print(f'BCC: 3, {Ba}')\n",
        "print('-----------------------------')\n",
        "print('min energies - old, new')\n",
        "print(f'FCC: {min(oldFCC)}, {min(newFCC)}')\n",
        "print(f'BCC: {min(oldBCC)}, {min(newBCC)}')\n",
        "\n",
        "# get statistics\n",
        "# t_stat, p_val = twoway_ttest(oldBCC, oldFCC)\n",
        "\n",
        "\n",
        "%matplotlib inline\n",
        "\n",
        "plt.title(f'Energy Distribution across random FCC/BCC {alloy} structures')\n",
        "plt.xlabel('Energy')\n",
        "plt.grid(True)\n",
        "plt.legend()\n",
        "plt.show()"
      ]
    },
    {
      "cell_type": "code",
      "execution_count": null,
      "metadata": {
        "id": "qeIDWi0CZkRe"
      },
      "outputs": [],
      "source": [
        "FCC1 = eval(total.loc[total['alloy'] == alloy, 'FCC ev1'].iloc[0])\n",
        "FCC2 = eval(total.loc[total['alloy'] == alloy, 'FCC ev2'].iloc[0])\n",
        "FCC3 = eval(total.loc[total['alloy'] == alloy, 'FCC ev3'].iloc[0])\n",
        "FCC4 = eval(total.loc[total['alloy'] == alloy, 'FCC ev4'].iloc[0])\n",
        "FCC5 = eval(total.loc[total['alloy'] == alloy, 'FCC ev5'].iloc[0])\n",
        "\n",
        "\n",
        "BCC1 = eval(total.loc[total['alloy'] == alloy, 'BCC ev1'].iloc[0])\n",
        "BCC2 = eval(total.loc[total['alloy'] == alloy, 'BCC ev2'].iloc[0])\n",
        "BCC3 = eval(total.loc[total['alloy'] == alloy, 'BCC ev3'].iloc[0])\n",
        "BCC4 = eval(total.loc[total['alloy'] == alloy, 'BCC ev4'].iloc[0])\n",
        "BCC5 = eval(total.loc[total['alloy'] == alloy, 'BCC ev5'].iloc[0])\n",
        "\n",
        "\n",
        "%matplotlib inline\n",
        "\n",
        "plot_EV_dict(FCC1,'FCC','g')\n",
        "plot_EV_dict(FCC2,'FCC','g')\n",
        "plot_EV_dict(FCC3,'FCC','g')\n",
        "plot_EV_dict(FCC4,'FCC','g')\n",
        "plot_EV_dict(FCC5,'FCC','g')\n",
        "\n",
        "\n",
        "plot_EV_dict(BCC1,'BCC','b')\n",
        "plot_EV_dict(BCC2,'BCC','b')\n",
        "plot_EV_dict(BCC3,'BCC','b')\n",
        "plot_EV_dict(BCC4,'BCC','b')\n",
        "plot_EV_dict(BCC5,'BCC','b')\n",
        "\n",
        "\n",
        "plt.xlabel('lattice parameter')\n",
        "plt.ylabel('energy per atom')\n",
        "plt.title(f'EV curve for {alloy}')\n",
        "plt.legend()\n",
        "plt.grid(True)\n",
        "plt.show()\n"
      ]
    },
    {
      "cell_type": "code",
      "execution_count": null,
      "metadata": {
        "id": "yPli2uuB5wBb"
      },
      "outputs": [],
      "source": [
        "print(total['FCC parameter'].mean())\n",
        "print(total['BCC parameter'].mean())"
      ]
    },
    {
      "cell_type": "code",
      "execution_count": null,
      "metadata": {
        "id": "zmJPdCTVx17e"
      },
      "outputs": [],
      "source": [
        "print(FCC1[min(list(FCC1.keys()))],FCC2[min(list(FCC2.keys()))],FCC3[min(list(FCC3.keys()))],FCC4[min(list(FCC4.keys()))],FCC5[min(list(FCC5.keys()))])\n",
        "\n",
        "print(BCC1[min(list(BCC1.keys()))],BCC2[min(list(BCC2.keys()))],BCC3[min(list(BCC3.keys()))],BCC4[min(list(BCC4.keys()))],BCC5[min(list(BCC5.keys()))])"
      ]
    },
    {
      "cell_type": "markdown",
      "metadata": {
        "id": "6ma-as4msMWD"
      },
      "source": [
        "## Combined Dataset Analysis\n"
      ]
    },
    {
      "cell_type": "markdown",
      "metadata": {
        "id": "bn5w4Ts687zE"
      },
      "source": [
        "### Dataset Setup"
      ]
    },
    {
      "cell_type": "code",
      "execution_count": null,
      "metadata": {
        "id": "4s7eZOxmsPC3"
      },
      "outputs": [],
      "source": [
        "import pandas as pd\n",
        "import numpy as np\n",
        "import matplotlib.pyplot as plt\n",
        "import math\n",
        "import random\n",
        "from scipy.stats import norm\n",
        "import matplotlib.pyplot as plt\n",
        "from scipy.stats import ttest_ind\n",
        "from scipy.stats import ttest_1samp\n",
        "from scipy.stats import ttest_rel\n",
        "\n",
        "from google.colab import drive\n",
        "drive.mount('/content/drive')\n"
      ]
    },
    {
      "cell_type": "code",
      "execution_count": null,
      "metadata": {
        "id": "LZSTi92PsVO7"
      },
      "outputs": [],
      "source": [
        "'''\n",
        "the three batches of data - B1-3:\n",
        "\n",
        "B1: EV curve (1x25) then permute (100) only\n",
        "B2: permute (500) then relax only\n",
        "B3: EV (5x50), permute (500), relax\n",
        "'''\n",
        "\n",
        "B1 = pd.read_csv('/content/drive/MyDrive/Senior Project - ML prediction of HEAs/Random Structures/montemethod132sphea.csv')\n",
        "B1['prediction']= B1.apply((lambda x: 'FCC' if x['FCClowest']< x['BCClowest'] else 'BCC'), axis=1)\n",
        "B1.info()"
      ]
    },
    {
      "cell_type": "code",
      "execution_count": null,
      "metadata": {
        "id": "yyWMYC6p3r_l"
      },
      "outputs": [],
      "source": [
        "def result_from_list(row):\n",
        "\n",
        "  FCCenergies = eval(row['FCCenergies'])\n",
        "  BCCenergies = eval(row['BCCenergies'])\n",
        "\n",
        "  FCC = min(FCCenergies)\n",
        "  BCC = min(BCCenergies)\n",
        "\n",
        "  result = 'FCC' if FCC < BCC else 'BCC'\n",
        "\n",
        "  return FCC, BCC, result\n",
        "\n",
        "B2=pd.read_csv('/content/drive/MyDrive/Senior Project - ML prediction of HEAs/Random Structures/monte_and_relaxation.csv')\n",
        "B2[['FCClowest_before_relaxation', 'BCClowest_before_relaxation', 'before_relax_prediction']] = pd.DataFrame(B2.apply(result_from_list, axis=1).tolist(), index=B2.index)\n",
        "\n",
        "B2.info()"
      ]
    },
    {
      "cell_type": "code",
      "execution_count": null,
      "metadata": {
        "id": "bBCFKr6f3uRH"
      },
      "outputs": [],
      "source": [
        "B3=pd.read_csv('/content/drive/MyDrive/Senior Project - ML prediction of HEAs/Random Structures/batch_3.csv')\n",
        "\n",
        "B3.info()"
      ]
    },
    {
      "cell_type": "code",
      "execution_count": null,
      "metadata": {
        "id": "DlL_Bbb2t1gD"
      },
      "outputs": [],
      "source": [
        "combined = pd.merge(B1, B2, on ='alloy', suffixes = ('_B1','_B2'))\n",
        "combined = pd.merge(combined, B3, on ='alloy', suffixes = (None,'_B3'))\n",
        "combined.info()"
      ]
    },
    {
      "cell_type": "code",
      "execution_count": null,
      "metadata": {
        "id": "M_cJISb6yVcp"
      },
      "outputs": [],
      "source": [
        "rename_map = {'FCClowest_B1': 'B1_FCC_energy','BCClowest_B1': 'B1_BCC_energy',\n",
        "              'FCClowest_B2':'B2_FCC_relaxed_energy', 'BCClowest_B2': 'B2_BCC_relaxed_energy',\n",
        "              'FCClowest_before_relaxation': 'B2_FCC_energy', 'BCClowest_before_relaxation':'B2_BCC_energy',\n",
        "              'FCClowest': 'B3_FCC_relaxed_energy', 'BCClowest': 'B3_BCC_relaxed_energy',\n",
        "              'FCClowest_before_relaxation_B3': 'B3_FCC_energy', 'BCClowest_before_relaxation_B3':'B3_BCC_energy',\n",
        "              'prediction':'prediction_B3', 'before_relax_prediction': 'before_relax_prediction_B2'}\n",
        "\n",
        "\n",
        "combined.rename(columns=rename_map, inplace=True)\n"
      ]
    },
    {
      "cell_type": "code",
      "execution_count": null,
      "metadata": {
        "id": "TMuPNi5I6p7s"
      },
      "outputs": [],
      "source": [
        "def parameter_from_dict(row):\n",
        "\n",
        "  ev = eval(row)\n",
        "  return ev[min(list(ev.keys()))]\n",
        "\n",
        "combined['FCC parameter_B1'] = combined['FCCev'].apply(parameter_from_dict)\n",
        "combined['BCC parameter_B1'] = combined['BCCev'].apply(parameter_from_dict)\n",
        "combined['FCC parameter_B2'] = 3.54\n",
        "combined['BCC parameter_B2'] = 3\n",
        "\n",
        "combined[['FCC parameter_B1', 'FCC parameter_B2','FCC parameter','BCC parameter_B1', 'BCC parameter_B2','BCC parameter']].head()"
      ]
    },
    {
      "cell_type": "code",
      "execution_count": null,
      "metadata": {
        "id": "7a1wrnrh9Amx"
      },
      "outputs": [],
      "source": [
        "combined.info()"
      ]
    },
    {
      "cell_type": "markdown",
      "metadata": {
        "id": "pDMcTl4G9150"
      },
      "source": [
        "### Analysis of batches"
      ]
    },
    {
      "cell_type": "code",
      "execution_count": null,
      "metadata": {
        "id": "IuL0ZI4EQW6M"
      },
      "outputs": [],
      "source": [
        "combined.info()"
      ]
    },
    {
      "cell_type": "code",
      "execution_count": null,
      "metadata": {
        "id": "cBKonuu-6kQf"
      },
      "outputs": [],
      "source": [
        "# Set up masks for indexing on correctness\n",
        "\n",
        "B1right = combined['prediction_B1'] == combined['Experimental']\n",
        "\n",
        "B2right = combined['prediction_B2'] == combined['Experimental']\n",
        "B2unrelaxedright = combined['before_relax_prediction_B2'] == combined['Experimental']\n",
        "\n",
        "B3right = combined['prediction_B3'] == combined['Experimental']\n",
        "B3unrelaxedright = combined['before_relax_prediction_B3'] == combined['Experimental']\n",
        "\n",
        "print('Accuracy of:')\n",
        "print(f'Batch 1: {combined[B1right].shape[0]/132}')\n",
        "print(f'Batch 2: {combined[B2right].shape[0]/132}')\n",
        "print(f'Batch 2 unrelaxed: {combined[B2unrelaxedright].shape[0]/132}')\n",
        "print(f'Batch 3: {combined[B3right].shape[0]/132}')\n",
        "print(f'Batch 3 unrelaxed: {combined[B3unrelaxedright].shape[0]/132}')"
      ]
    },
    {
      "cell_type": "code",
      "execution_count": null,
      "metadata": {
        "id": "XP44O1HB-Ih-"
      },
      "outputs": [],
      "source": [
        "# get parameters from relaxed files\n",
        "\n",
        "def parameter_from_relaxed(row, directory):\n",
        "\n",
        "    alloy = row['alloy']\n",
        "    alloy_string = remove_decimals(alloy)\n",
        "\n",
        "    FCCatoms = ASEread(f'{directory}/relaxed_{alloy_string}_FCC.vasp')\n",
        "    FCCcell = FCCatoms.get_cell()\n",
        "\n",
        "\n",
        "    BCCatoms = ASEread(f'{directory}/{alloy_string}_relaxed_BCC.vasp')\n",
        "    BCCcell = BCCatoms.get_cell()\n",
        "\n",
        "    return FCCcell, BCCcell\n",
        "\n",
        "\n",
        "combined['B3_relaxed_FCC_cell'], combined['B3_relaxed_BCC_cell'] = zip(*combined.apply(lambda x: parameter_from_relaxed(x, '/content/drive/MyDrive/Senior Project - ML prediction of HEAs/Random Structures'), axis=1))"
      ]
    },
    {
      "cell_type": "code",
      "execution_count": null,
      "metadata": {
        "id": "yASjCENzQVFB"
      },
      "outputs": [],
      "source": [
        "combined[combined['alloy']== 'CoCrFeNi'][['alloy','FCC parameter_B1', 'FCC parameter','BCC parameter_B1', 'BCC parameter_B2','BCC parameter']].head()"
      ]
    },
    {
      "cell_type": "code",
      "execution_count": null,
      "metadata": {
        "id": "jAZETCYESVq6"
      },
      "outputs": [],
      "source": [
        "combined[~B2right & B2unrelaxedright][['Experimental','before_relax_prediction_B2','prediction_B2']].shape[0]"
      ]
    },
    {
      "cell_type": "code",
      "execution_count": null,
      "metadata": {
        "id": "FKaSN77PT96R"
      },
      "outputs": [],
      "source": [
        "combined.head()"
      ]
    },
    {
      "cell_type": "code",
      "execution_count": null,
      "metadata": {
        "id": "fbqBKZqDWrrs"
      },
      "outputs": [],
      "source": [
        "print('FCC', combined[~B1right]['FCC parameter_B1'].mean())\n",
        "print('BCC', combined[~B1right]['BCC parameter_B1'].mean())"
      ]
    },
    {
      "cell_type": "code",
      "execution_count": null,
      "metadata": {
        "id": "8m7GZpiWW9DN"
      },
      "outputs": [],
      "source": [
        "print('FCC', combined[~B3right]['FCC parameter'].mean())\n",
        "print('BCC', combined[~B3right]['BCC parameter'].mean())"
      ]
    }
  ],
  "metadata": {
    "accelerator": "GPU",
    "colab": {
      "gpuType": "L4",
      "machine_shape": "hm",
      "provenance": [],
      "authorship_tag": "ABX9TyOBI0TL5YVQhA+uOZkvjQyE",
      "include_colab_link": true
    },
    "kernelspec": {
      "display_name": "Python 3",
      "name": "python3"
    },
    "language_info": {
      "name": "python"
    }
  },
  "nbformat": 4,
  "nbformat_minor": 0
}